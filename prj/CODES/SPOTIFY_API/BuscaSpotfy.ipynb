{
 "cells": [
  {
   "cell_type": "code",
   "execution_count": 1,
   "metadata": {},
   "outputs": [],
   "source": [
    "import requests\n",
    "\n",
    "CLIENT_ID = 'd4880e347df145ec95382a22b3305276'\n",
    "CLIENT_SECRET = '94491d60b1a345199d2ecdabcbe2e935'\n",
    "\n",
    "AUTH_URL = 'https://accounts.spotify.com/api/token'\n",
    "\n",
    "auth_response = requests.post(AUTH_URL, {\n",
    "    'grant_type': 'client_credentials',\n",
    "    'client_id': CLIENT_ID,\n",
    "    'client_secret': CLIENT_SECRET,\n",
    "})\n",
    "\n",
    "# convert the response to JSON\n",
    "auth_response_data = auth_response.json()\n",
    "\n",
    "# save the access token\n",
    "access_token = auth_response_data['access_token']\n",
    "headers = {\n",
    "    'Authorization': 'Bearer {token}'.format(token=access_token)\n",
    "}\n"
   ]
  },
  {
   "cell_type": "code",
   "execution_count": 2,
   "metadata": {},
   "outputs": [],
   "source": [
    "BASE_URL = 'https://api.spotify.com/v1/'\n",
    "track_name = \"Bulldog Down in Sunny Tennessee\"\n",
    "artist_name = \"Charlie Poole\"\n",
    "\n",
    "# make the API request\n",
    "r = requests.get(BASE_URL + 'search?q=track:' + track_name + '+artist:' + artist_name + '&type=track', headers=headers)\n",
    "\n",
    "# get the first track from the results\n",
    "track = r.json()['tracks']['items'][0]\n",
    "track_id = track['id']\n"
   ]
  },
  {
   "cell_type": "code",
   "execution_count": 3,
   "metadata": {},
   "outputs": [],
   "source": [
    "r = requests.get(BASE_URL + 'audio-features/' + track_id, headers=headers)\n",
    "audio_features = r.json()\n"
   ]
  },
  {
   "cell_type": "code",
   "execution_count": 4,
   "metadata": {},
   "outputs": [
    {
     "name": "stdout",
     "output_type": "stream",
     "text": [
      "danceability: 0.649\n",
      "energy: 0.39\n",
      "key: 5\n",
      "loudness: -12.237\n",
      "mode: 1\n",
      "speechiness: 0.0417\n",
      "acousticness: 0.96\n",
      "instrumentalness: 2.6e-06\n",
      "liveness: 0.096\n",
      "valence: 0.903\n",
      "tempo: 167.348\n",
      "type: audio_features\n",
      "id: 1YfgBUdlNojzn1Ke9uj1Ql\n",
      "uri: spotify:track:1YfgBUdlNojzn1Ke9uj1Ql\n",
      "track_href: https://api.spotify.com/v1/tracks/1YfgBUdlNojzn1Ke9uj1Ql\n",
      "analysis_url: https://api.spotify.com/v1/audio-analysis/1YfgBUdlNojzn1Ke9uj1Ql\n",
      "duration_ms: 161027\n",
      "time_signature: 4\n"
     ]
    }
   ],
   "source": [
    "for feature, value in audio_features.items():\n",
    "    print(f\"{feature}: {value}\")"
   ]
  },
  {
   "cell_type": "code",
   "execution_count": null,
   "metadata": {},
   "outputs": [],
   "source": []
  },
  {
   "cell_type": "code",
   "execution_count": 5,
   "metadata": {},
   "outputs": [],
   "source": [
    "import requests\n",
    "import pandas as pd\n",
    "\n",
    "# 1. Autenticação (mesmo código anterior)\n",
    "# ...\n",
    "\n",
    "# 2. Lista de faixas (exemplo com as 4 primeiras faixas fornecidas)\n",
    "tracks = [\n",
    "    (\"Bulldog Down in Sunny Tennessee\", \"Charlie Poole\", \"Country; International\", \"Q3\"),\n",
    "    (\"Reborn in Blasphemy\", \"Dismember\", \"Electronic; International; Pop/Rock\", \"Q2\"),\n",
    "    # ... adicione as outras faixas aqui\n",
    "]\n",
    "\n",
    "# 3. Função para buscar características de áudio\n",
    "def get_audio_features(track_name, artist_name):\n",
    "    r = requests.get(BASE_URL + 'search?q=track:' + track_name + '+artist:' + artist_name + '&type=track', headers=headers)\n",
    "    track = r.json()['tracks']['items'][0]\n",
    "    track_id = track['id']\n",
    "    r = requests.get(BASE_URL + 'audio-features/' + track_id, headers=headers)\n",
    "    return r.json()\n",
    "\n",
    "# 4. Criar o DataFrame\n",
    "data = []\n",
    "\n",
    "for track_name, artist_name, genre, quadrant in tracks:\n",
    "    audio_features = get_audio_features(track_name, artist_name)\n",
    "    data.append([\n",
    "        track_name,\n",
    "        artist_name,\n",
    "        genre,\n",
    "        quadrant,\n",
    "        audio_features['danceability'],\n",
    "        audio_features['energy'],\n",
    "        audio_features['key'],\n",
    "        audio_features['loudness'],\n",
    "        audio_features['loudness'],\n",
    "        audio_features['loudness'],\n",
    "\n",
    "    ])\n",
    "\n",
    "df = pd.DataFrame(data, columns=[\n",
    "    'Nome da Faixa',\n",
    "    'Cantor ou Compositor',\n",
    "    'Genero',\n",
    "    'Quadrante',\n",
    "    'danceability',\n",
    "    'energy'\n",
    "    # ... adicione os nomes das outras colunas de características aqui\n",
    "])\n",
    "\n",
    "# 5. Salvar o DataFrame como um arquivo CSV\n",
    "df.to_csv('spotify_dataset.csv', index=False)\n"
   ]
  }
 ],
 "metadata": {
  "kernelspec": {
   "display_name": "Python 3",
   "language": "python",
   "name": "python3"
  },
  "language_info": {
   "codemirror_mode": {
    "name": "ipython",
    "version": 3
   },
   "file_extension": ".py",
   "mimetype": "text/x-python",
   "name": "python",
   "nbconvert_exporter": "python",
   "pygments_lexer": "ipython3",
   "version": "3.9.18"
  },
  "orig_nbformat": 4
 },
 "nbformat": 4,
 "nbformat_minor": 2
}
