{
 "cells": [
  {
   "cell_type": "code",
   "execution_count": 37,
   "metadata": {},
   "outputs": [],
   "source": [
    "import requests\n",
    "\n",
    "from config import SPOT_CLIENT_SECRET, SPOT_CLIENT_ID\n",
    "CLIENT_ID = SPOT_CLIENT_ID\n",
    "CLIENT_SECRET = SPOT_CLIENT_SECRET\n",
    "\n",
    "\n",
    "def get_spotify_token(client_id, client_secret):\n",
    "    auth_response = requests.post(\n",
    "        'https://accounts.spotify.com/api/token',\n",
    "        {'grant_type': 'client_credentials'},\n",
    "        auth=(client_id, client_secret)\n",
    "    )\n",
    "    return auth_response.json()['access_token']\n",
    "\n",
    "def search_track(track_name, token):\n",
    "    headers = {'Authorization': f'Bearer {token}'}\n",
    "    search_params = {\n",
    "        'q': track_name,\n",
    "        'type': 'track',\n",
    "        'limit': 1\n",
    "    }\n",
    "    response = requests.get('https://api.spotify.com/v1/search', headers=headers, params=search_params)\n",
    "    return response.json()\n",
    "\n",
    "# credenciais do Spotify\n",
    "client_id = CLIENT_ID\n",
    "client_secret = CLIENT_SECRET\n",
    "\n",
    "# Obter o token\n",
    "token = get_spotify_token(client_id, client_secret)\n",
    "\n",
    "# Buscar uma música\n",
    "track_name = 'Heaven Bryan Adams'\n",
    "track_info = search_track(track_name, token)\n"
   ]
  },
  {
   "cell_type": "code",
   "execution_count": 38,
   "metadata": {},
   "outputs": [],
   "source": [
    "def get_track_features(track_id, token):\n",
    "    headers = {'Authorization': f'Bearer {token}'}\n",
    "    response = requests.get(f'https://api.spotify.com/v1/audio-features/{track_id}', headers=headers)\n",
    "    return response.json()\n",
    "\n",
    "#ID da música do passo anterior\n",
    "track_id = track_info['tracks']['items'][0]['id']\n",
    "features = get_track_features(track_id, token)\n"
   ]
  },
  {
   "cell_type": "code",
   "execution_count": 39,
   "metadata": {},
   "outputs": [
    {
     "name": "stdout",
     "output_type": "stream",
     "text": [
      "{'danceability': 0.382, 'energy': 0.589, 'key': 9, 'loudness': -7.315, 'mode': 0, 'speechiness': 0.0267, 'acousticness': 0.0465, 'instrumentalness': 0, 'liveness': 0.122, 'valence': 0.335, 'tempo': 140.059, 'type': 'audio_features', 'id': '7Ewz6bJ97vUqk5HdkvguFQ', 'uri': 'spotify:track:7Ewz6bJ97vUqk5HdkvguFQ', 'track_href': 'https://api.spotify.com/v1/tracks/7Ewz6bJ97vUqk5HdkvguFQ', 'analysis_url': 'https://api.spotify.com/v1/audio-analysis/7Ewz6bJ97vUqk5HdkvguFQ', 'duration_ms': 243360, 'time_signature': 4}\n"
     ]
    }
   ],
   "source": [
    "print(features)\n",
    "\n",
    "#detalhes da faixa a partir da API\n",
    "track_details = search_track(track_name, token)\n",
    "\n",
    "# nome e o artista corretamente\n",
    "track_info = {\n",
    "    'name': track_details['tracks']['items'][0]['name'],\n",
    "    'artist': track_details['tracks']['items'][0]['artists'][0]['name'],\n",
    "    # outras informações conforme necessário\n",
    "}\n"
   ]
  },
  {
   "cell_type": "code",
   "execution_count": 40,
   "metadata": {},
   "outputs": [
    {
     "name": "stderr",
     "output_type": "stream",
     "text": [
      "c:\\Users\\luboh\\anaconda3\\envs\\spotenv\\Lib\\site-packages\\sklearn\\utils\\validation.py:767: FutureWarning: is_sparse is deprecated and will be removed in a future version. Check `isinstance(dtype, pd.SparseDtype)` instead.\n",
      "  if not hasattr(array, \"sparse\") and array.dtypes.apply(is_sparse).any():\n",
      "c:\\Users\\luboh\\anaconda3\\envs\\spotenv\\Lib\\site-packages\\sklearn\\utils\\validation.py:605: FutureWarning: is_sparse is deprecated and will be removed in a future version. Check `isinstance(dtype, pd.SparseDtype)` instead.\n",
      "  if is_sparse(pd_dtype):\n",
      "c:\\Users\\luboh\\anaconda3\\envs\\spotenv\\Lib\\site-packages\\sklearn\\utils\\validation.py:614: FutureWarning: is_sparse is deprecated and will be removed in a future version. Check `isinstance(dtype, pd.SparseDtype)` instead.\n",
      "  if is_sparse(pd_dtype) or not is_extension_array_dtype(pd_dtype):\n",
      "c:\\Users\\luboh\\anaconda3\\envs\\spotenv\\Lib\\site-packages\\sklearn\\utils\\validation.py:767: FutureWarning: is_sparse is deprecated and will be removed in a future version. Check `isinstance(dtype, pd.SparseDtype)` instead.\n",
      "  if not hasattr(array, \"sparse\") and array.dtypes.apply(is_sparse).any():\n",
      "c:\\Users\\luboh\\anaconda3\\envs\\spotenv\\Lib\\site-packages\\sklearn\\utils\\validation.py:605: FutureWarning: is_sparse is deprecated and will be removed in a future version. Check `isinstance(dtype, pd.SparseDtype)` instead.\n",
      "  if is_sparse(pd_dtype):\n",
      "c:\\Users\\luboh\\anaconda3\\envs\\spotenv\\Lib\\site-packages\\sklearn\\utils\\validation.py:614: FutureWarning: is_sparse is deprecated and will be removed in a future version. Check `isinstance(dtype, pd.SparseDtype)` instead.\n",
      "  if is_sparse(pd_dtype) or not is_extension_array_dtype(pd_dtype):\n",
      "c:\\Users\\luboh\\anaconda3\\envs\\spotenv\\Lib\\site-packages\\sklearn\\utils\\validation.py:767: FutureWarning: is_sparse is deprecated and will be removed in a future version. Check `isinstance(dtype, pd.SparseDtype)` instead.\n",
      "  if not hasattr(array, \"sparse\") and array.dtypes.apply(is_sparse).any():\n",
      "c:\\Users\\luboh\\anaconda3\\envs\\spotenv\\Lib\\site-packages\\sklearn\\utils\\validation.py:605: FutureWarning: is_sparse is deprecated and will be removed in a future version. Check `isinstance(dtype, pd.SparseDtype)` instead.\n",
      "  if is_sparse(pd_dtype):\n",
      "c:\\Users\\luboh\\anaconda3\\envs\\spotenv\\Lib\\site-packages\\sklearn\\utils\\validation.py:614: FutureWarning: is_sparse is deprecated and will be removed in a future version. Check `isinstance(dtype, pd.SparseDtype)` instead.\n",
      "  if is_sparse(pd_dtype) or not is_extension_array_dtype(pd_dtype):\n",
      "c:\\Users\\luboh\\anaconda3\\envs\\spotenv\\Lib\\site-packages\\sklearn\\base.py:439: UserWarning: X does not have valid feature names, but KNeighborsClassifier was fitted with feature names\n",
      "  warnings.warn(\n"
     ]
    }
   ],
   "source": [
    "# modelo carregado\n",
    "import pandas as pd\n",
    "import joblib\n",
    "\n",
    "from tensorflow.keras.models import load_model\n",
    "\n",
    "##neural_model_loaded = load_model('nn_model.keras')\n",
    "model_loaded = joblib.load('melhor_knn_model.joblib')\n",
    "\n",
    "# Preparar os dados\n",
    "\n",
    "import pandas as pd\n",
    "from sklearn.preprocessing import StandardScaler\n",
    "\n",
    "# 'features' é um dicionário com as características extraídas da API do Spotify\n",
    "new_data = pd.DataFrame([features])\n",
    "\n",
    "# Selecionar apenas as colunas relevantes\n",
    "relevant_columns = ['acousticness', 'danceability', 'energy', 'instrumentalness', 'key', 'liveness', 'loudness', 'mode', 'speechiness', 'tempo', 'time_signature', 'valence']\n",
    "new_data = new_data[relevant_columns]\n",
    "\n",
    "# Aplicando a normalização\n",
    "scaler = StandardScaler()\n",
    "new_data[relevant_columns] = scaler.fit_transform(new_data[relevant_columns])\n",
    "\n",
    "# Aplicar a mesma normalização/padronização usada no treinamento\n",
    "new_data_scaled = scaler.transform(new_data)\n",
    "\n",
    "# Fazer a previsão\n",
    "quadrant_prediction = model_loaded.predict(new_data_scaled)\n"
   ]
  },
  {
   "cell_type": "code",
   "execution_count": 41,
   "metadata": {},
   "outputs": [
    {
     "name": "stdout",
     "output_type": "stream",
     "text": [
      "Nome da Música: Heaven\n",
      "Artista: Bryan Adams\n",
      "Quadrante Previsto: Baixa Valência, Baixa Ativação (Triste, Melancólica)\n"
     ]
    }
   ],
   "source": [
    "\n",
    "\n",
    "quadrants = {\n",
    "    0: 'Alta Valência, Alta Ativação (Alegre, Energética)',\n",
    "    1: 'Baixa Valência, Alta Ativação (Tensa, Nervosa)',\n",
    "    2: 'Baixa Valência, Baixa Ativação (Triste, Melancólica)',\n",
    "    3: 'Alta Valência, Baixa Ativação (Calma, Relaxante)',\n",
    " 'Q1': 'Alta Valência, Alta Ativação (Alegre, Energética)',\n",
    " 'Q2': 'Baixa Valência, Alta Ativação (Tensa, Nervosa)',\n",
    " 'Q3': 'Baixa Valência, Baixa Ativação (Triste, Melancólica)',\n",
    " 'Q4': 'Alta Valência, Baixa Ativação (Calma, Relaxante)'\n",
    "}\n",
    "\n",
    "# 'quadrants' é uma lista ou dicionário que mapeia os números da previsão para os rótulos dos quadrantes\n",
    "predicted_quadrant = quadrants[quadrant_prediction[0]]\n",
    "\n",
    "# Combinando as informações\n",
    "track_info['predicted_quadrant'] = predicted_quadrant\n",
    "\n",
    "# Exibindo as informações\n",
    "print(f\"Nome da Música: {track_info['name']}\")\n",
    "print(f\"Artista: {track_info['artist']}\")\n",
    "print(f\"Quadrante Previsto: {track_info['predicted_quadrant']}\")\n",
    "# ... exibir outras informações desejadas\n"
   ]
  },
  {
   "cell_type": "code",
   "execution_count": 8,
   "metadata": {},
   "outputs": [
    {
     "ename": "IndexError",
     "evalue": "invalid index to scalar variable.",
     "output_type": "error",
     "traceback": [
      "\u001b[1;31m---------------------------------------------------------------------------\u001b[0m",
      "\u001b[1;31mIndexError\u001b[0m                                Traceback (most recent call last)",
      "\u001b[1;32mc:\\Users\\luboh\\OneDrive\\Área de Trabalho\\USP\\EngDadosBigData\\eEDB-018_REPO\\DEVELOPER\\eEDB-018\\prj\\CODES\\SPOTIFY_API\\Production.ipynb Cell 6\u001b[0m line \u001b[0;36m2\n\u001b[0;32m     <a href='vscode-notebook-cell:/c%3A/Users/luboh/OneDrive/%C3%81rea%20de%20Trabalho/USP/EngDadosBigData/eEDB-018_REPO/DEVELOPER/eEDB-018/prj/CODES/SPOTIFY_API/Production.ipynb#W5sZmlsZQ%3D%3D?line=15'>16</a>\u001b[0m predicted_class_index \u001b[39m=\u001b[39m np\u001b[39m.\u001b[39margmax(quadrant_prediction, axis\u001b[39m=\u001b[39m\u001b[39m-\u001b[39m\u001b[39m1\u001b[39m)\n\u001b[0;32m     <a href='vscode-notebook-cell:/c%3A/Users/luboh/OneDrive/%C3%81rea%20de%20Trabalho/USP/EngDadosBigData/eEDB-018_REPO/DEVELOPER/eEDB-018/prj/CODES/SPOTIFY_API/Production.ipynb#W5sZmlsZQ%3D%3D?line=17'>18</a>\u001b[0m \u001b[39m# Agora você pode acessar o dicionário usando esse índice\u001b[39;00m\n\u001b[0;32m     <a href='vscode-notebook-cell:/c%3A/Users/luboh/OneDrive/%C3%81rea%20de%20Trabalho/USP/EngDadosBigData/eEDB-018_REPO/DEVELOPER/eEDB-018/prj/CODES/SPOTIFY_API/Production.ipynb#W5sZmlsZQ%3D%3D?line=18'>19</a>\u001b[0m \u001b[39m# Note que `predicted_class_index` é um array, então você acessa o primeiro elemento com [0]\u001b[39;00m\n\u001b[1;32m---> <a href='vscode-notebook-cell:/c%3A/Users/luboh/OneDrive/%C3%81rea%20de%20Trabalho/USP/EngDadosBigData/eEDB-018_REPO/DEVELOPER/eEDB-018/prj/CODES/SPOTIFY_API/Production.ipynb#W5sZmlsZQ%3D%3D?line=19'>20</a>\u001b[0m predicted_quadrant \u001b[39m=\u001b[39m quadrants[predicted_class_index[\u001b[39m0\u001b[39;49m]]\n\u001b[0;32m     <a href='vscode-notebook-cell:/c%3A/Users/luboh/OneDrive/%C3%81rea%20de%20Trabalho/USP/EngDadosBigData/eEDB-018_REPO/DEVELOPER/eEDB-018/prj/CODES/SPOTIFY_API/Production.ipynb#W5sZmlsZQ%3D%3D?line=21'>22</a>\u001b[0m \u001b[39m# Supondo que 'track_info' é um dicionário contendo informações da música\u001b[39;00m\n\u001b[0;32m     <a href='vscode-notebook-cell:/c%3A/Users/luboh/OneDrive/%C3%81rea%20de%20Trabalho/USP/EngDadosBigData/eEDB-018_REPO/DEVELOPER/eEDB-018/prj/CODES/SPOTIFY_API/Production.ipynb#W5sZmlsZQ%3D%3D?line=22'>23</a>\u001b[0m \u001b[39m# track_info = {'name': 'Name of the Song', 'artist': 'Name of the Artist', ...}\u001b[39;00m\n\u001b[0;32m     <a href='vscode-notebook-cell:/c%3A/Users/luboh/OneDrive/%C3%81rea%20de%20Trabalho/USP/EngDadosBigData/eEDB-018_REPO/DEVELOPER/eEDB-018/prj/CODES/SPOTIFY_API/Production.ipynb#W5sZmlsZQ%3D%3D?line=23'>24</a>\u001b[0m \n\u001b[0;32m     <a href='vscode-notebook-cell:/c%3A/Users/luboh/OneDrive/%C3%81rea%20de%20Trabalho/USP/EngDadosBigData/eEDB-018_REPO/DEVELOPER/eEDB-018/prj/CODES/SPOTIFY_API/Production.ipynb#W5sZmlsZQ%3D%3D?line=24'>25</a>\u001b[0m \u001b[39m# Adicione o quadrante previsto ao dicionário de informações da música\u001b[39;00m\n\u001b[0;32m     <a href='vscode-notebook-cell:/c%3A/Users/luboh/OneDrive/%C3%81rea%20de%20Trabalho/USP/EngDadosBigData/eEDB-018_REPO/DEVELOPER/eEDB-018/prj/CODES/SPOTIFY_API/Production.ipynb#W5sZmlsZQ%3D%3D?line=25'>26</a>\u001b[0m track_info[\u001b[39m'\u001b[39m\u001b[39mpredicted_quadrant\u001b[39m\u001b[39m'\u001b[39m] \u001b[39m=\u001b[39m predicted_quadrant\n",
      "\u001b[1;31mIndexError\u001b[0m: invalid index to scalar variable."
     ]
    }
   ],
   "source": [
    "import numpy as np\n",
    "\n",
    "# Dicionário de mapeamento dos números da previsão para os rótulos dos quadrantes\n",
    "quadrants = {\n",
    "    0: 'Alta Valência, Alta Ativação (Alegre, Energética)',\n",
    "    1: 'Baixa Valência, Alta Ativação (Tensa, Nervosa)',\n",
    "    2: 'Baixa Valência, Baixa Ativação (Triste, Melancólica)',\n",
    "    3: 'Alta Valência, Baixa Ativação (Calma, Relaxante)'\n",
    "}\n",
    "\n",
    "# Supondo que `quadrant_prediction` é o resultado da rede neural\n",
    "# Aqui você deve ter o resultado da chamada `model.predict(...)`\n",
    "# quadrant_prediction = model.predict(some_input_data)\n",
    "\n",
    "# Obtenha o índice da classe com a maior probabilidade para a previsão\n",
    "predicted_class_index = np.argmax(quadrant_prediction, axis=-1)\n",
    "\n",
    "# Agora você pode acessar o dicionário usando esse índice\n",
    "# Note que `predicted_class_index` é um array, então você acessa o primeiro elemento com [0]\n",
    "predicted_quadrant = quadrants[predicted_class_index[0]]\n",
    "\n",
    "# Supondo que 'track_info' é um dicionário contendo informações da música\n",
    "# track_info = {'name': 'Name of the Song', 'artist': 'Name of the Artist', ...}\n",
    "\n",
    "# Adicione o quadrante previsto ao dicionário de informações da música\n",
    "track_info['predicted_quadrant'] = predicted_quadrant\n",
    "\n",
    "# Exiba as informações\n",
    "print(f\"Nome da Música: {track_info['name']}\")\n",
    "print(f\"Artista: {track_info['artist']}\")\n",
    "print(f\"Quadrante Previsto: {track_info['predicted_quadrant']}\")\n",
    "# ... exibir outras informações desejadas\n"
   ]
  }
 ],
 "metadata": {
  "kernelspec": {
   "display_name": "uspspotenv",
   "language": "python",
   "name": "python3"
  },
  "language_info": {
   "codemirror_mode": {
    "name": "ipython",
    "version": 3
   },
   "file_extension": ".py",
   "mimetype": "text/x-python",
   "name": "python",
   "nbconvert_exporter": "python",
   "pygments_lexer": "ipython3",
   "version": "3.11.5"
  }
 },
 "nbformat": 4,
 "nbformat_minor": 2
}
