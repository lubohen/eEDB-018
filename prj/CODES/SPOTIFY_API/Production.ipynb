{
 "cells": [
  {
   "cell_type": "code",
   "execution_count": 22,
   "metadata": {},
   "outputs": [],
   "source": [
    "import requests\n",
    "\n",
    "from config import SPOT_CLIENT_SECRET, SPOT_CLIENT_ID\n",
    "CLIENT_ID = SPOT_CLIENT_ID\n",
    "CLIENT_SECRET = SPOT_CLIENT_SECRET\n",
    "\n",
    "\n",
    "def get_spotify_token(client_id, client_secret):\n",
    "    auth_response = requests.post(\n",
    "        'https://accounts.spotify.com/api/token',\n",
    "        {'grant_type': 'client_credentials'},\n",
    "        auth=(client_id, client_secret)\n",
    "    )\n",
    "    return auth_response.json()['access_token']\n",
    "\n",
    "def search_track(track_name, token):\n",
    "    headers = {'Authorization': f'Bearer {token}'}\n",
    "    search_params = {\n",
    "        'q': track_name,\n",
    "        'type': 'track',\n",
    "        'limit': 1\n",
    "    }\n",
    "    response = requests.get('https://api.spotify.com/v1/search', headers=headers, params=search_params)\n",
    "    return response.json()\n",
    "\n",
    "# Substitua com suas credenciais do Spotify\n",
    "client_id = CLIENT_ID\n",
    "client_secret = CLIENT_SECRET\n",
    "\n",
    "# Obter o token\n",
    "token = get_spotify_token(client_id, client_secret)\n",
    "\n",
    "# Buscar uma música\n",
    "track_name = 'What Was I Made For?'\n",
    "track_info = search_track(track_name, token)\n"
   ]
  },
  {
   "cell_type": "code",
   "execution_count": 23,
   "metadata": {},
   "outputs": [],
   "source": [
    "def get_track_features(track_id, token):\n",
    "    headers = {'Authorization': f'Bearer {token}'}\n",
    "    response = requests.get(f'https://api.spotify.com/v1/audio-features/{track_id}', headers=headers)\n",
    "    return response.json()\n",
    "\n",
    "# Suponha que você tenha o ID da música do passo anterior\n",
    "track_id = track_info['tracks']['items'][0]['id']\n",
    "features = get_track_features(track_id, token)\n"
   ]
  },
  {
   "cell_type": "code",
   "execution_count": 24,
   "metadata": {},
   "outputs": [
    {
     "name": "stdout",
     "output_type": "stream",
     "text": [
      "{'danceability': 0.444, 'energy': 0.0911, 'key': 0, 'loudness': -17.665, 'mode': 1, 'speechiness': 0.0307, 'acousticness': 0.959, 'instrumentalness': 1.05e-06, 'liveness': 0.098, 'valence': 0.142, 'tempo': 78.403, 'type': 'audio_features', 'id': '6wf7Yu7cxBSPrRlWeSeK0Q', 'uri': 'spotify:track:6wf7Yu7cxBSPrRlWeSeK0Q', 'track_href': 'https://api.spotify.com/v1/tracks/6wf7Yu7cxBSPrRlWeSeK0Q', 'analysis_url': 'https://api.spotify.com/v1/audio-analysis/6wf7Yu7cxBSPrRlWeSeK0Q', 'duration_ms': 222370, 'time_signature': 4}\n"
     ]
    }
   ],
   "source": [
    "print(features)\n",
    "\n",
    "# Supondo que você tenha obtido os detalhes da faixa a partir da API\n",
    "track_details = search_track(track_name, token)\n",
    "\n",
    "# Certifique-se de extrair o nome e o artista corretamente\n",
    "track_info = {\n",
    "    'name': track_details['tracks']['items'][0]['name'],\n",
    "    'artist': track_details['tracks']['items'][0]['artists'][0]['name'],\n",
    "    # outras informações conforme necessário\n",
    "}\n"
   ]
  },
  {
   "cell_type": "code",
   "execution_count": 25,
   "metadata": {},
   "outputs": [
    {
     "name": "stderr",
     "output_type": "stream",
     "text": [
      "f:\\Programas\\anaconda3\\envs\\uspspotenv\\Lib\\site-packages\\sklearn\\utils\\validation.py:767: FutureWarning: is_sparse is deprecated and will be removed in a future version. Check `isinstance(dtype, pd.SparseDtype)` instead.\n",
      "  if not hasattr(array, \"sparse\") and array.dtypes.apply(is_sparse).any():\n",
      "f:\\Programas\\anaconda3\\envs\\uspspotenv\\Lib\\site-packages\\sklearn\\utils\\validation.py:605: FutureWarning: is_sparse is deprecated and will be removed in a future version. Check `isinstance(dtype, pd.SparseDtype)` instead.\n",
      "  if is_sparse(pd_dtype):\n",
      "f:\\Programas\\anaconda3\\envs\\uspspotenv\\Lib\\site-packages\\sklearn\\utils\\validation.py:614: FutureWarning: is_sparse is deprecated and will be removed in a future version. Check `isinstance(dtype, pd.SparseDtype)` instead.\n",
      "  if is_sparse(pd_dtype) or not is_extension_array_dtype(pd_dtype):\n",
      "f:\\Programas\\anaconda3\\envs\\uspspotenv\\Lib\\site-packages\\sklearn\\utils\\validation.py:767: FutureWarning: is_sparse is deprecated and will be removed in a future version. Check `isinstance(dtype, pd.SparseDtype)` instead.\n",
      "  if not hasattr(array, \"sparse\") and array.dtypes.apply(is_sparse).any():\n",
      "f:\\Programas\\anaconda3\\envs\\uspspotenv\\Lib\\site-packages\\sklearn\\utils\\validation.py:605: FutureWarning: is_sparse is deprecated and will be removed in a future version. Check `isinstance(dtype, pd.SparseDtype)` instead.\n",
      "  if is_sparse(pd_dtype):\n",
      "f:\\Programas\\anaconda3\\envs\\uspspotenv\\Lib\\site-packages\\sklearn\\utils\\validation.py:614: FutureWarning: is_sparse is deprecated and will be removed in a future version. Check `isinstance(dtype, pd.SparseDtype)` instead.\n",
      "  if is_sparse(pd_dtype) or not is_extension_array_dtype(pd_dtype):\n",
      "f:\\Programas\\anaconda3\\envs\\uspspotenv\\Lib\\site-packages\\sklearn\\utils\\validation.py:767: FutureWarning: is_sparse is deprecated and will be removed in a future version. Check `isinstance(dtype, pd.SparseDtype)` instead.\n",
      "  if not hasattr(array, \"sparse\") and array.dtypes.apply(is_sparse).any():\n",
      "f:\\Programas\\anaconda3\\envs\\uspspotenv\\Lib\\site-packages\\sklearn\\utils\\validation.py:605: FutureWarning: is_sparse is deprecated and will be removed in a future version. Check `isinstance(dtype, pd.SparseDtype)` instead.\n",
      "  if is_sparse(pd_dtype):\n",
      "f:\\Programas\\anaconda3\\envs\\uspspotenv\\Lib\\site-packages\\sklearn\\utils\\validation.py:614: FutureWarning: is_sparse is deprecated and will be removed in a future version. Check `isinstance(dtype, pd.SparseDtype)` instead.\n",
      "  if is_sparse(pd_dtype) or not is_extension_array_dtype(pd_dtype):\n",
      "f:\\Programas\\anaconda3\\envs\\uspspotenv\\Lib\\site-packages\\sklearn\\base.py:439: UserWarning: X does not have valid feature names, but KNeighborsClassifier was fitted with feature names\n",
      "  warnings.warn(\n"
     ]
    }
   ],
   "source": [
    "# Suponha que você tenha o modelo carregado (por exemplo, modelo Random Forest)\n",
    "import pandas as pd\n",
    "import joblib\n",
    "\n",
    "knn_model_loaded = joblib.load('KNN_MODEL.pkl')\n",
    "\n",
    "# Preparar os dados\n",
    "\n",
    "import pandas as pd\n",
    "from sklearn.preprocessing import StandardScaler\n",
    "\n",
    "# Supondo que 'features' é um dicionário com as características extraídas da API do Spotify\n",
    "new_data = pd.DataFrame([features])\n",
    "\n",
    "# Selecionar apenas as colunas relevantes\n",
    "#relevant_columns = ['danceability', 'energy', 'loudness', 'speechiness', 'acousticness', 'instrumentalness', 'liveness', 'valence', 'tempo']\n",
    "#new_data = new_data[relevant_columns]\n",
    "\n",
    "# Selecione as colunas numéricas para normalização\n",
    "relevant_columns = ['acousticness', 'danceability', 'energy', 'instrumentalness', 'key', 'liveness', 'loudness', 'mode', 'speechiness', 'tempo', 'time_signature', 'valence']\n",
    "new_data = new_data[relevant_columns]\n",
    "\n",
    "# Aplicando a normalização\n",
    "scaler = StandardScaler()\n",
    "new_data[relevant_columns] = scaler.fit_transform(new_data[relevant_columns])\n",
    "\n",
    "# Aplicar a mesma normalização/padronização usada no treinamento\n",
    "# Suponha que 'scaler' é o StandardScaler que você usou anteriormente\n",
    "new_data_scaled = scaler.transform(new_data)\n",
    "\n",
    "# Agora 'new_data_scaled' está pronto para ser usado para previsões\n",
    "\n",
    "\n",
    "# Lembre-se de aplicar a mesma transformação que foi aplicada aos dados de treino\n",
    "# Por exemplo, se usou StandardScaler, aplique-o aqui também\n",
    "#data_to_predict = pd.DataFrame([features])\n",
    "#prepared_data = scaler.transform(data_to_predict)\n",
    "\n",
    "# Fazer a previsão\n",
    "quadrant_prediction = knn_model_loaded.predict(new_data_scaled)\n"
   ]
  },
  {
   "cell_type": "code",
   "execution_count": 26,
   "metadata": {},
   "outputs": [
    {
     "name": "stdout",
     "output_type": "stream",
     "text": [
      "Nome da Música: What Was I Made For? [From The Motion Picture \"Barbie\"]\n",
      "Artista: Billie Eilish\n",
      "Quadrante Previsto: Baixa Valência, Baixa Ativação (Triste, Melancólica)\n"
     ]
    }
   ],
   "source": [
    "\n",
    "\n",
    "quadrants = {\n",
    "    'Q1': 'Alta Valência, Alta Ativação (Alegre, Energética)',\n",
    "    'Q2': 'Baixa Valência, Alta Ativação (Tensa, Nervosa)',\n",
    "    'Q3': 'Baixa Valência, Baixa Ativação (Triste, Melancólica)',\n",
    "    'Q4': 'Alta Valência, Baixa Ativação (Calma, Relaxante)'\n",
    "}\n",
    "\n",
    "# Supondo que 'quadrants' é uma lista ou dicionário que mapeia os números da previsão para os rótulos dos quadrantes\n",
    "predicted_quadrant = quadrants[quadrant_prediction[0]]\n",
    "\n",
    "# Combinando as informações\n",
    "track_info['predicted_quadrant'] = predicted_quadrant\n",
    "\n",
    "# Exibindo as informações\n",
    "print(f\"Nome da Música: {track_info['name']}\")\n",
    "print(f\"Artista: {track_info['artist']}\")\n",
    "print(f\"Quadrante Previsto: {track_info['predicted_quadrant']}\")\n",
    "# ... exibir outras informações desejadas\n"
   ]
  }
 ],
 "metadata": {
  "kernelspec": {
   "display_name": "uspspotenv",
   "language": "python",
   "name": "python3"
  },
  "language_info": {
   "codemirror_mode": {
    "name": "ipython",
    "version": 3
   },
   "file_extension": ".py",
   "mimetype": "text/x-python",
   "name": "python",
   "nbconvert_exporter": "python",
   "pygments_lexer": "ipython3",
   "version": "3.11.5"
  }
 },
 "nbformat": 4,
 "nbformat_minor": 2
}
