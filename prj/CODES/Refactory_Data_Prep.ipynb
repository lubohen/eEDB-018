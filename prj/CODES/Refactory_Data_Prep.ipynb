{
 "cells": [
  {
   "cell_type": "code",
   "execution_count": 3,
   "metadata": {},
   "outputs": [],
   "source": [
    "import pandas as pd\n",
    "from sklearn.model_selection import train_test_split\n",
    "from sklearn.preprocessing import StandardScaler, LabelEncoder\n",
    "from sklearn.compose import ColumnTransformer\n",
    "from sklearn.pipeline import Pipeline\n",
    "from sklearn.impute import SimpleImputer\n",
    "import joblib\n",
    "\n",
    "def prepare_data(file_path, target_column, numeric_features, test_size=0.2, random_state=42, scaler_path='preprocessor.joblib', label_encoder_path='label_encoder.joblib'):\n",
    "    \"\"\"\n",
    "    Carrega e prepara os dados para modelagem.\n",
    "\n",
    "    Args:\n",
    "        file_path (str): Caminho para o arquivo CSV dos dados.\n",
    "        target_column (str): Nome da coluna alvo.\n",
    "        numeric_features (list of str): Lista de nomes das colunas numéricas.\n",
    "        test_size (float, optional): Proporção do conjunto de teste. Padrão é 0.2.\n",
    "        random_state (int, optional): Semente para a geração de números aleatórios. Padrão é 42.\n",
    "        scaler_path (str, optional): Caminho para salvar o objeto de pré-processamento. Padrão é 'preprocessor.joblib'.\n",
    "        label_encoder_path (str, optional): Caminho para salvar o codificador de rótulos. Padrão é 'label_encoder.joblib'.\n",
    "\n",
    "    Returns:\n",
    "        tuple: Tupla contendo os conjuntos de dados processados (X_train, X_test, y_train, y_test), além do pré-processador e o codificador de rótulos.\n",
    "    \"\"\"\n",
    "    # Carregar dados\n",
    "    df = pd.read_csv(file_path)\n",
    "\n",
    "    # Separar em features e target\n",
    "    X = df[numeric_features]\n",
    "    y = df[target_column]\n",
    "\n",
    "    # Codificar a variável alvo categórica\n",
    "    label_encoder = LabelEncoder()\n",
    "    y_encoded = label_encoder.fit_transform(y)\n",
    "\n",
    "    # Dividir os dados em conjuntos de treinamento e teste\n",
    "    X_train, X_test, y_train, y_test = train_test_split(X, y_encoded, test_size=test_size, random_state=random_state)\n",
    "\n",
    "    # Construir o pré-processador para features numéricas\n",
    "    numeric_transformer = Pipeline(steps=[\n",
    "        ('imputer', SimpleImputer(strategy='median')),  # Preencher valores ausentes\n",
    "        ('scaler', StandardScaler())                   # Normalizar dados numéricos\n",
    "    ])\n",
    "\n",
    "    # Aplicar transformações nas colunas numéricas\n",
    "    preprocessor = ColumnTransformer(transformers=[\n",
    "        ('num', numeric_transformer, numeric_features)\n",
    "    ])\n",
    "\n",
    "    # Pré-processar os dados de treinamento e teste\n",
    "    X_train_processed = preprocessor.fit_transform(X_train)\n",
    "    X_test_processed = preprocessor.transform(X_test)\n",
    "\n",
    "    # Salvar o pré-processador e o label encoder\n",
    "    joblib.dump(preprocessor, scaler_path)\n",
    "    joblib.dump(label_encoder, label_encoder_path)\n",
    "\n",
    "    return X_train_processed, X_test_processed, y_train, y_test, preprocessor, label_encoder\n",
    "\n",
    "# Exemplo de uso\n",
    "if __name__ == \"__main__\":\n",
    "    file_path = 'spotify_dataset.csv'\n",
    "    target_column = 'Quadrante'\n",
    "    numeric_features = [\n",
    "    'Acousticness', 'Danceability', 'Energy', 'Instrumentalness', \n",
    "    'Key', 'Liveness', 'Loudness', 'Speechiness', 'Tempo', 'Valence', \n",
    "    'Mode', 'Time Signature'\n",
    "]\n",
    "\n",
    "    scaler_path = 'preprocessor.joblib'\n",
    "    label_encoder_path = 'label_encoder.joblib'\n",
    "\n",
    "    # Preparar os dados\n",
    "    X_train, X_test, y_train, y_test, preprocessor, label_encoder = prepare_data(\n",
    "        file_path=file_path,\n",
    "        target_column=target_column,\n",
    "        numeric_features=numeric_features,\n",
    "        scaler_path=scaler_path,\n",
    "        label_encoder_path=label_encoder_path\n",
    "    )\n",
    "\n",
    "    # Agora, X_train, X_test, y_train, e y_test estão prontos para serem usados em qualquer modelo de ML.\n"
   ]
  },
  {
   "cell_type": "code",
   "execution_count": 2,
   "metadata": {},
   "outputs": [
    {
     "name": "stdout",
     "output_type": "stream",
     "text": [
      "Index(['Nome da Faixa', 'Cantor ou Compositor', 'Gênero', 'Quadrante',\n",
      "       'Acousticness', 'Danceability', 'Energy', 'Instrumentalness', 'Key',\n",
      "       'Liveness', 'Loudness', 'Mode', 'Speechiness', 'Tempo',\n",
      "       'Time Signature', 'Valence'],\n",
      "      dtype='object')\n"
     ]
    }
   ],
   "source": [
    "df = pd.read_csv(file_path)\n",
    "print(df.columns)  # Isso mostrará todas as colunas disponíveis no DataFrame"
   ]
  }
 ],
 "metadata": {
  "kernelspec": {
   "display_name": "spotenv",
   "language": "python",
   "name": "python3"
  },
  "language_info": {
   "codemirror_mode": {
    "name": "ipython",
    "version": 3
   },
   "file_extension": ".py",
   "mimetype": "text/x-python",
   "name": "python",
   "nbconvert_exporter": "python",
   "pygments_lexer": "ipython3",
   "version": "3.11.5"
  }
 },
 "nbformat": 4,
 "nbformat_minor": 2
}
