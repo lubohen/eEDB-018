{
 "cells": [
  {
   "cell_type": "code",
   "execution_count": 3,
   "metadata": {},
   "outputs": [
    {
     "name": "stdout",
     "output_type": "stream",
     "text": [
      "Portraits (+ Remixes)\n",
      "Portraits\n",
      "Young Heart\n",
      "Beautiful Lies (Deluxe)\n",
      "Beautiful Lies\n",
      "Fire Within (Deluxe)\n",
      "Fire Within\n",
      "Live in London\n",
      "Birdy (Deluxe Version)\n",
      "Birdy\n"
     ]
    }
   ],
   "source": [
    "## Example : Names of all the albums from 'Birdy'\n",
    "\n",
    "import spotipy\n",
    "from spotipy.oauth2 import SpotifyClientCredentials\n",
    "from config import SPOT_CLIENT_SECRET, SPOT_CLIENT_ID\n",
    "\n",
    "birdy_uri = 'spotify:artist:2WX2uTcsvV5OnS0inACecP'\n",
    "spotify = spotipy.Spotify(client_credentials_manager=SpotifyClientCredentials(client_id=SPOT_CLIENT_ID, client_secret=SPOT_CLIENT_SECRET))\n",
    "\n",
    "results = spotify.artist_albums(birdy_uri, album_type='album')\n",
    "albums = results['items']\n",
    "while results['next']:\n",
    "    results = spotify.next(results)\n",
    "    albums.extend(results['items'])\n",
    "\n",
    "for album in albums:\n",
    "    print(album['name'])"
   ]
  },
  {
   "cell_type": "code",
   "execution_count": 5,
   "metadata": {},
   "outputs": [
    {
     "name": "stdout",
     "output_type": "stream",
     "text": [
      "track    : Immigrant Song - Remaster\n",
      "audio    : https://p.scdn.co/mp3-preview/f50f3416ea0807503e172ba87a92d8047d4f95da?cid=d4880e347df145ec95382a22b3305276\n",
      "cover art: https://i.scdn.co/image/ab67616d0000b27390a50cfe99a4c19ff3cbfbdb\n",
      "\n",
      "track    : Stairway to Heaven - Remaster\n",
      "audio    : https://p.scdn.co/mp3-preview/337c8d45ac66899bc2db9ef3ed9438fe1d035ab1?cid=d4880e347df145ec95382a22b3305276\n",
      "cover art: https://i.scdn.co/image/ab67616d0000b273c8a11e48c91a982d086afc69\n",
      "\n",
      "track    : Whole Lotta Love - 1990 Remaster\n",
      "audio    : https://p.scdn.co/mp3-preview/89f3dc45265602fa874c23d638538af0f2c6b56a?cid=d4880e347df145ec95382a22b3305276\n",
      "cover art: https://i.scdn.co/image/ab67616d0000b273fc4f17340773c6c3579fea0d\n",
      "\n",
      "track    : Black Dog - Remaster\n",
      "audio    : https://p.scdn.co/mp3-preview/78dd352fdbe8d2a867b72c5a71ac44ef6a462ab4?cid=d4880e347df145ec95382a22b3305276\n",
      "cover art: https://i.scdn.co/image/ab67616d0000b273c8a11e48c91a982d086afc69\n",
      "\n",
      "track    : Rock and Roll - Remaster\n",
      "audio    : https://p.scdn.co/mp3-preview/9464a064068943a58f673035d9ebe58e98f46bea?cid=d4880e347df145ec95382a22b3305276\n",
      "cover art: https://i.scdn.co/image/ab67616d0000b273c8a11e48c91a982d086afc69\n",
      "\n",
      "track    : Good Times Bad Times - 1993 Remaster\n",
      "audio    : https://p.scdn.co/mp3-preview/499f6278a140080d3218c448448d0eb149eb65b7?cid=d4880e347df145ec95382a22b3305276\n",
      "cover art: https://i.scdn.co/image/ab67616d0000b2736f2f499c1df1f210c9b34b32\n",
      "\n",
      "track    : Ramble On - 1990 Remaster\n",
      "audio    : https://p.scdn.co/mp3-preview/e734d4e4f125ff5fbe7d69faa7d505dc744fb7bb?cid=d4880e347df145ec95382a22b3305276\n",
      "cover art: https://i.scdn.co/image/ab67616d0000b273fc4f17340773c6c3579fea0d\n",
      "\n",
      "track    : Kashmir - Remaster\n",
      "audio    : https://p.scdn.co/mp3-preview/4d9bde799eec8913e53c184c45b9fd575690b917?cid=d4880e347df145ec95382a22b3305276\n",
      "cover art: https://i.scdn.co/image/ab67616d0000b273765b0617b572bdd1dbdc7d8e\n",
      "\n",
      "track    : Going to California - Remaster\n",
      "audio    : https://p.scdn.co/mp3-preview/8c2452c1db9c3a7aad2b826cb52303a689814f6e?cid=d4880e347df145ec95382a22b3305276\n",
      "cover art: https://i.scdn.co/image/ab67616d0000b273c8a11e48c91a982d086afc69\n",
      "\n",
      "track    : Over the Hills and Far Away - Remaster\n",
      "audio    : https://p.scdn.co/mp3-preview/a828935e429be801aa374eeeb8b2cb0d91755d57?cid=d4880e347df145ec95382a22b3305276\n",
      "cover art: https://i.scdn.co/image/ab67616d0000b2731aa47e71c4edfeaddb65cd54\n",
      "\n"
     ]
    }
   ],
   "source": [
    "## Example 2:  30 second samples and cover art for the top 10 tracks for Led Zeppelin\n",
    "\n",
    "lz_uri = 'spotify:artist:36QJpDe2go2KgaRleHCDTp'\n",
    "\n",
    "results = spotify.artist_top_tracks(lz_uri)\n",
    "\n",
    "for track in results['tracks'][:10]:\n",
    "    print('track    : ' + track['name'])\n",
    "    print('audio    : ' + track['preview_url'])\n",
    "    print('cover art: ' + track['album']['images'][0]['url'])\n",
    "    print()"
   ]
  },
  {
   "cell_type": "code",
   "execution_count": 10,
   "metadata": {},
   "outputs": [
    {
     "name": "stdout",
     "output_type": "stream",
     "text": [
      "Johann Sebastian Bach https://i.scdn.co/image/a2ec08fe69ecec2748fbc764aede8f1b03ae8f88\n"
     ]
    }
   ],
   "source": [
    "## example that will get the URL for an artist image given the artist’s name:\n",
    "\n",
    "import sys\n",
    "\n",
    "if \"--ip=\" in sys.argv[1]:\n",
    "    name = 'Bach'\n",
    "else:\n",
    "    name = ' '.join(sys.argv[1:])\n",
    "'''\n",
    "if len(sys.argv) > 1:\n",
    "    name = ' '.join(sys.argv[1:])\n",
    "else:\n",
    "    name = 'Radiohead'\n",
    "'''\n",
    "results = spotify.search(q='artist:' + name, type='artist')\n",
    "items = results['artists']['items']\n",
    "if len(items) > 0:\n",
    "    artist = items[0]\n",
    "    print(artist['name'], artist['images'][0]['url'])"
   ]
  }
 ],
 "metadata": {
  "kernelspec": {
   "display_name": "spotenv",
   "language": "python",
   "name": "python3"
  },
  "language_info": {
   "codemirror_mode": {
    "name": "ipython",
    "version": 3
   },
   "file_extension": ".py",
   "mimetype": "text/x-python",
   "name": "python",
   "nbconvert_exporter": "python",
   "pygments_lexer": "ipython3",
   "version": "3.11.5"
  }
 },
 "nbformat": 4,
 "nbformat_minor": 2
}
