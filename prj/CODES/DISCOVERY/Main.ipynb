{
 "cells": [
  {
   "cell_type": "markdown",
   "metadata": {},
   "source": [
    "Limpeza dos Dados"
   ]
  },
  {
   "cell_type": "code",
   "execution_count": 1,
   "metadata": {},
   "outputs": [
    {
     "name": "stdout",
     "output_type": "stream",
     "text": [
      "                                  Nome da Faixa         Cantor ou Compositor  \\\n",
      "1                           Reborn in Blasphemy                    Dismember   \n",
      "2                           Ultrasonic Meltdown  Curse of the Golden Vampire   \n",
      "4                        The Masquerade is Over              George Shearing   \n",
      "7                                      All Good                   De La Soul   \n",
      "8                               Rats!Rats!Rats!                     Deftones   \n",
      "..                                          ...                          ...   \n",
      "698                         Comfort Zone; Pt. 1               Steven Halpern   \n",
      "699  I Don't Stand a Ghost of a Chance With You                  Sonny Stitt   \n",
      "700                     Let the Computer Decide                 Paul Gilbert   \n",
      "701                          Brother Harold Dee               Porter Wagoner   \n",
      "705                                        Read                      Product   \n",
      "\n",
      "                                  Genero Quadrante  acousticness  \\\n",
      "1    Electronic; International; Pop/Rock        Q2      0.000008   \n",
      "2                             Electronic        Q2      0.000195   \n",
      "4                                   Jazz        Q4      0.826000   \n",
      "7                                    Rap        Q4      0.012700   \n",
      "8                               Pop/Rock        Q2      0.000004   \n",
      "..                                   ...       ...           ...   \n",
      "698     Electronic; New Age; Avant-Garde        Q4      0.953000   \n",
      "699                                 Jazz        Q3      0.935000   \n",
      "700                             Pop/Rock        Q2      0.000272   \n",
      "701                              Country        Q3      0.717000   \n",
      "705                                  Rap        Q3      0.307000   \n",
      "\n",
      "     danceability  energy  instrumentalness  key  liveness  loudness  mode  \\\n",
      "1           0.246  0.9850          0.839000    7    0.3450    -4.002     1   \n",
      "2           0.275  0.9900          0.654000    6    0.2630    -2.375     1   \n",
      "4           0.522  0.1320          0.848000    8    0.6990   -25.412     1   \n",
      "7           0.875  0.5980          0.000002    2    0.0210    -5.481     1   \n",
      "8           0.201  0.9290          0.876000    4    0.3690    -4.603     1   \n",
      "..            ...     ...               ...  ...       ...       ...   ...   \n",
      "698         0.183  0.0373          0.868000    9    0.0842   -31.435     1   \n",
      "699         0.572  0.2240          0.813000    0    0.1000   -15.152     1   \n",
      "700         0.253  0.9310          0.705000    7    0.0580    -4.938     1   \n",
      "701         0.534  0.2610          0.000001    9    0.0871   -13.073     1   \n",
      "705         0.495  0.0454          0.825000    9    0.0662   -10.899     0   \n",
      "\n",
      "     speechiness    tempo  time_signature  valence  \n",
      "1         0.1320  114.450               4    0.369  \n",
      "2         0.2690  152.620               4    0.141  \n",
      "4         0.0608   90.675               4    0.539  \n",
      "7         0.2530   96.863               4    0.793  \n",
      "8         0.0423   82.094               5    0.392  \n",
      "..           ...      ...             ...      ...  \n",
      "698       0.0377  136.403               1    0.236  \n",
      "699       0.0640   82.727               4    0.291  \n",
      "700       0.1310  142.122               4    0.527  \n",
      "701       0.1870  129.000               3    0.343  \n",
      "705       0.3770   82.918               4    0.000  \n",
      "\n",
      "[303 rows x 16 columns]\n"
     ]
    }
   ],
   "source": [
    "import pandas as pd\n",
    "\n",
    "# Carregar os dados\n",
    "data = pd.read_csv('spotify_dataset.csv')\n",
    "\n",
    "# Para colunas categóricas, preencha com a moda\n",
    "for column in data.select_dtypes(include=['object']).columns:\n",
    "    data[column].fillna(data[column].mode()[0], inplace=True)\n",
    "\n",
    "# Para colunas numéricas, você pode calcular o IQR\n",
    "numeric_data = data.select_dtypes(exclude=['object'])\n",
    "\n",
    "Q1 = numeric_data.quantile(0.25)\n",
    "Q3 = numeric_data.quantile(0.75)\n",
    "IQR = Q3 - Q1\n",
    "\n",
    "# Verifique outliers apenas para colunas numéricas\n",
    "outliers = ((numeric_data < (Q1 - 1.5 * IQR)) | (numeric_data > (Q3 + 1.5 * IQR))) ## Revisar\n",
    "\n",
    "# Crie um DataFrame apenas com os outliers\n",
    "outliers_data = data[outliers.any(axis=1)]\n",
    "\n",
    "# Remover outliers do DataFrame original\n",
    "data_out = data[~outliers.any(axis=1)]\n",
    "\n",
    "# Agora, `outliers_data` contém os outliers retirados\n",
    "print(outliers_data)\n",
    "\n"
   ]
  },
  {
   "cell_type": "code",
   "execution_count": 2,
   "metadata": {},
   "outputs": [
    {
     "data": {
      "text/html": [
       "<div>\n",
       "<style scoped>\n",
       "    .dataframe tbody tr th:only-of-type {\n",
       "        vertical-align: middle;\n",
       "    }\n",
       "\n",
       "    .dataframe tbody tr th {\n",
       "        vertical-align: top;\n",
       "    }\n",
       "\n",
       "    .dataframe thead th {\n",
       "        text-align: right;\n",
       "    }\n",
       "</style>\n",
       "<table border=\"1\" class=\"dataframe\">\n",
       "  <thead>\n",
       "    <tr style=\"text-align: right;\">\n",
       "      <th></th>\n",
       "      <th>acousticness</th>\n",
       "      <th>danceability</th>\n",
       "      <th>energy</th>\n",
       "      <th>instrumentalness</th>\n",
       "      <th>key</th>\n",
       "      <th>liveness</th>\n",
       "      <th>loudness</th>\n",
       "      <th>mode</th>\n",
       "      <th>speechiness</th>\n",
       "      <th>tempo</th>\n",
       "      <th>time_signature</th>\n",
       "      <th>valence</th>\n",
       "    </tr>\n",
       "  </thead>\n",
       "  <tbody>\n",
       "    <tr>\n",
       "      <th>count</th>\n",
       "      <td>706.000000</td>\n",
       "      <td>706.000000</td>\n",
       "      <td>706.000000</td>\n",
       "      <td>706.000000</td>\n",
       "      <td>706.000000</td>\n",
       "      <td>706.000000</td>\n",
       "      <td>706.000000</td>\n",
       "      <td>706.000000</td>\n",
       "      <td>706.000000</td>\n",
       "      <td>706.000000</td>\n",
       "      <td>706.000000</td>\n",
       "      <td>706.000000</td>\n",
       "    </tr>\n",
       "    <tr>\n",
       "      <th>mean</th>\n",
       "      <td>0.416577</td>\n",
       "      <td>0.528586</td>\n",
       "      <td>0.557864</td>\n",
       "      <td>0.180355</td>\n",
       "      <td>5.076487</td>\n",
       "      <td>0.198861</td>\n",
       "      <td>-10.548115</td>\n",
       "      <td>0.667139</td>\n",
       "      <td>0.086608</td>\n",
       "      <td>115.749734</td>\n",
       "      <td>3.886686</td>\n",
       "      <td>0.515737</td>\n",
       "    </tr>\n",
       "    <tr>\n",
       "      <th>std</th>\n",
       "      <td>0.369310</td>\n",
       "      <td>0.188623</td>\n",
       "      <td>0.282494</td>\n",
       "      <td>0.316745</td>\n",
       "      <td>3.478377</td>\n",
       "      <td>0.170141</td>\n",
       "      <td>5.464902</td>\n",
       "      <td>0.471571</td>\n",
       "      <td>0.089171</td>\n",
       "      <td>30.434357</td>\n",
       "      <td>0.443926</td>\n",
       "      <td>0.278639</td>\n",
       "    </tr>\n",
       "    <tr>\n",
       "      <th>min</th>\n",
       "      <td>0.000001</td>\n",
       "      <td>0.000000</td>\n",
       "      <td>0.003020</td>\n",
       "      <td>0.000000</td>\n",
       "      <td>0.000000</td>\n",
       "      <td>0.021000</td>\n",
       "      <td>-34.982000</td>\n",
       "      <td>0.000000</td>\n",
       "      <td>0.000000</td>\n",
       "      <td>0.000000</td>\n",
       "      <td>0.000000</td>\n",
       "      <td>0.000000</td>\n",
       "    </tr>\n",
       "    <tr>\n",
       "      <th>25%</th>\n",
       "      <td>0.033325</td>\n",
       "      <td>0.402000</td>\n",
       "      <td>0.340250</td>\n",
       "      <td>0.000003</td>\n",
       "      <td>2.000000</td>\n",
       "      <td>0.096525</td>\n",
       "      <td>-13.254250</td>\n",
       "      <td>0.000000</td>\n",
       "      <td>0.036650</td>\n",
       "      <td>93.332750</td>\n",
       "      <td>4.000000</td>\n",
       "      <td>0.262000</td>\n",
       "    </tr>\n",
       "    <tr>\n",
       "      <th>50%</th>\n",
       "      <td>0.365000</td>\n",
       "      <td>0.549000</td>\n",
       "      <td>0.571500</td>\n",
       "      <td>0.000465</td>\n",
       "      <td>5.000000</td>\n",
       "      <td>0.125500</td>\n",
       "      <td>-9.869000</td>\n",
       "      <td>1.000000</td>\n",
       "      <td>0.049900</td>\n",
       "      <td>111.061500</td>\n",
       "      <td>4.000000</td>\n",
       "      <td>0.530000</td>\n",
       "    </tr>\n",
       "    <tr>\n",
       "      <th>75%</th>\n",
       "      <td>0.778750</td>\n",
       "      <td>0.671750</td>\n",
       "      <td>0.797500</td>\n",
       "      <td>0.174250</td>\n",
       "      <td>8.000000</td>\n",
       "      <td>0.258750</td>\n",
       "      <td>-6.350500</td>\n",
       "      <td>1.000000</td>\n",
       "      <td>0.096775</td>\n",
       "      <td>135.229750</td>\n",
       "      <td>4.000000</td>\n",
       "      <td>0.758750</td>\n",
       "    </tr>\n",
       "    <tr>\n",
       "      <th>max</th>\n",
       "      <td>0.996000</td>\n",
       "      <td>0.920000</td>\n",
       "      <td>0.998000</td>\n",
       "      <td>1.000000</td>\n",
       "      <td>11.000000</td>\n",
       "      <td>0.982000</td>\n",
       "      <td>-0.680000</td>\n",
       "      <td>1.000000</td>\n",
       "      <td>0.922000</td>\n",
       "      <td>209.139000</td>\n",
       "      <td>5.000000</td>\n",
       "      <td>0.980000</td>\n",
       "    </tr>\n",
       "  </tbody>\n",
       "</table>\n",
       "</div>"
      ],
      "text/plain": [
       "       acousticness  danceability      energy  instrumentalness         key  \\\n",
       "count    706.000000    706.000000  706.000000        706.000000  706.000000   \n",
       "mean       0.416577      0.528586    0.557864          0.180355    5.076487   \n",
       "std        0.369310      0.188623    0.282494          0.316745    3.478377   \n",
       "min        0.000001      0.000000    0.003020          0.000000    0.000000   \n",
       "25%        0.033325      0.402000    0.340250          0.000003    2.000000   \n",
       "50%        0.365000      0.549000    0.571500          0.000465    5.000000   \n",
       "75%        0.778750      0.671750    0.797500          0.174250    8.000000   \n",
       "max        0.996000      0.920000    0.998000          1.000000   11.000000   \n",
       "\n",
       "         liveness    loudness        mode  speechiness       tempo  \\\n",
       "count  706.000000  706.000000  706.000000   706.000000  706.000000   \n",
       "mean     0.198861  -10.548115    0.667139     0.086608  115.749734   \n",
       "std      0.170141    5.464902    0.471571     0.089171   30.434357   \n",
       "min      0.021000  -34.982000    0.000000     0.000000    0.000000   \n",
       "25%      0.096525  -13.254250    0.000000     0.036650   93.332750   \n",
       "50%      0.125500   -9.869000    1.000000     0.049900  111.061500   \n",
       "75%      0.258750   -6.350500    1.000000     0.096775  135.229750   \n",
       "max      0.982000   -0.680000    1.000000     0.922000  209.139000   \n",
       "\n",
       "       time_signature     valence  \n",
       "count      706.000000  706.000000  \n",
       "mean         3.886686    0.515737  \n",
       "std          0.443926    0.278639  \n",
       "min          0.000000    0.000000  \n",
       "25%          4.000000    0.262000  \n",
       "50%          4.000000    0.530000  \n",
       "75%          4.000000    0.758750  \n",
       "max          5.000000    0.980000  "
      ]
     },
     "execution_count": 2,
     "metadata": {},
     "output_type": "execute_result"
    }
   ],
   "source": [
    "data.describe()"
   ]
  },
  {
   "cell_type": "markdown",
   "metadata": {},
   "source": [
    "## Codificação de Categorias"
   ]
  },
  {
   "cell_type": "code",
   "execution_count": 3,
   "metadata": {},
   "outputs": [
    {
     "name": "stdout",
     "output_type": "stream",
     "text": [
      "Colunas categóricas para codificação: ['Genero', 'Quadrante']\n",
      "                     Nome da Faixa         Cantor ou Compositor  acousticness  \\\n",
      "0  Bulldog Down in Sunny Tennessee                Charlie Poole      0.960000   \n",
      "1              Reborn in Blasphemy                    Dismember      0.000008   \n",
      "2              Ultrasonic Meltdown  Curse of the Golden Vampire      0.000195   \n",
      "3                       Last Night                Little Walter      0.358000   \n",
      "4           The Masquerade is Over              George Shearing      0.826000   \n",
      "\n",
      "   danceability  energy  instrumentalness  key  liveness  loudness  mode  ...  \\\n",
      "0         0.649   0.390          0.000003    5     0.096   -12.237     1  ...   \n",
      "1         0.246   0.985          0.839000    7     0.345    -4.002     1  ...   \n",
      "2         0.275   0.990          0.654000    6     0.263    -2.375     1  ...   \n",
      "3         0.458   0.443          0.000000    6     0.232   -10.422     0  ...   \n",
      "4         0.522   0.132          0.848000    8     0.699   -25.412     1  ...   \n",
      "\n",
      "   Genero_Stage & Screen; Rap  Genero_Stage & Screen; Vocal  Genero_Vocal  \\\n",
      "0                       False                         False         False   \n",
      "1                       False                         False         False   \n",
      "2                       False                         False         False   \n",
      "3                       False                         False         False   \n",
      "4                       False                         False         False   \n",
      "\n",
      "   Genero_Vocal; Jazz  Genero_Vocal; Jazz; Stage & Screen  \\\n",
      "0               False                               False   \n",
      "1               False                               False   \n",
      "2               False                               False   \n",
      "3               False                               False   \n",
      "4               False                               False   \n",
      "\n",
      "   Genero_Vocal; Pop/Rock  Quadrante_Q1  Quadrante_Q2  Quadrante_Q3  \\\n",
      "0                   False         False         False          True   \n",
      "1                   False         False          True         False   \n",
      "2                   False         False          True         False   \n",
      "3                   False         False         False          True   \n",
      "4                   False         False         False         False   \n",
      "\n",
      "   Quadrante_Q4  \n",
      "0         False  \n",
      "1         False  \n",
      "2         False  \n",
      "3         False  \n",
      "4          True  \n",
      "\n",
      "[5 rows x 195 columns]\n",
      "Total de colunas após a codificação: 195\n"
     ]
    }
   ],
   "source": [
    "# Primeiro, vamos identificar as colunas categóricas\n",
    "categorical_columns = data.select_dtypes(include=['object']).columns.tolist()\n",
    "\n",
    "# Remover as colunas \"Nome da Faixa\" e \"Cantor ou Compositor\" da lista\n",
    "columns_to_exclude = ['Nome da Faixa', 'Cantor ou Compositor']\n",
    "for col in columns_to_exclude:\n",
    "    if col in categorical_columns:\n",
    "        categorical_columns.remove(col)\n",
    "\n",
    "# Verificar se as colunas foram removidas da lista\n",
    "print(\"Colunas categóricas para codificação:\", categorical_columns)\n",
    "\n",
    "# Agora, vamos aplicar a codificação one-hot apenas às colunas selecionadas\n",
    "data_encoded = pd.get_dummies(data, columns=categorical_columns)\n",
    "\n",
    "print(data_encoded.head())  # exibir as primeiras linhas para ver a transformação\n",
    "print(\"Total de colunas após a codificação:\", len(data_encoded.columns))\n",
    "\n",
    "\n"
   ]
  },
  {
   "cell_type": "markdown",
   "metadata": {},
   "source": [
    "1. Expansão dos Valores Compostos:"
   ]
  },
  {
   "cell_type": "code",
   "execution_count": 4,
   "metadata": {},
   "outputs": [],
   "source": [
    "# Criar um novo dataframe expandindo a coluna \"Genero\"\n",
    "expanded_data = data.assign(Genero=data['Genero'].str.split(';')).explode('Genero')\n",
    "\n",
    "# Remove espaços em branco adicionais (caso existam)\n",
    "expanded_data['Genero'] = expanded_data['Genero'].str.strip()\n"
   ]
  },
  {
   "cell_type": "markdown",
   "metadata": {},
   "source": [
    "2. Aplicar Codificação One-hot:"
   ]
  },
  {
   "cell_type": "code",
   "execution_count": 5,
   "metadata": {},
   "outputs": [
    {
     "name": "stdout",
     "output_type": "stream",
     "text": [
      "                     Nome da Faixa Cantor ou Compositor  acousticness  \\\n",
      "0  Bulldog Down in Sunny Tennessee        Charlie Poole      0.960000   \n",
      "0  Bulldog Down in Sunny Tennessee        Charlie Poole      0.960000   \n",
      "1              Reborn in Blasphemy            Dismember      0.000008   \n",
      "1              Reborn in Blasphemy            Dismember      0.000008   \n",
      "1              Reborn in Blasphemy            Dismember      0.000008   \n",
      "\n",
      "   danceability  energy  instrumentalness  key  liveness  loudness  mode  ...  \\\n",
      "0         0.649   0.390          0.000003    5     0.096   -12.237     1  ...   \n",
      "0         0.649   0.390          0.000003    5     0.096   -12.237     1  ...   \n",
      "1         0.246   0.985          0.839000    7     0.345    -4.002     1  ...   \n",
      "1         0.246   0.985          0.839000    7     0.345    -4.002     1  ...   \n",
      "1         0.246   0.985          0.839000    7     0.345    -4.002     1  ...   \n",
      "\n",
      "   Genero_R&B  Genero_Rap  Genero_Reggae  Genero_Religious  \\\n",
      "0       False       False          False             False   \n",
      "0       False       False          False             False   \n",
      "1       False       False          False             False   \n",
      "1       False       False          False             False   \n",
      "1       False       False          False             False   \n",
      "\n",
      "   Genero_Stage & Screen  Genero_Vocal  Quadrante_Q1  Quadrante_Q2  \\\n",
      "0                  False         False         False         False   \n",
      "0                  False         False         False         False   \n",
      "1                  False         False         False          True   \n",
      "1                  False         False         False          True   \n",
      "1                  False         False         False          True   \n",
      "\n",
      "   Quadrante_Q3  Quadrante_Q4  \n",
      "0          True         False  \n",
      "0          True         False  \n",
      "1         False         False  \n",
      "1         False         False  \n",
      "1         False         False  \n",
      "\n",
      "[5 rows x 39 columns]\n",
      "Total de colunas após a codificação: 39\n"
     ]
    }
   ],
   "source": [
    "# Selecionar as colunas categóricas que você deseja codificar\n",
    "cols_to_encode = ['Genero', 'Quadrante']\n",
    "\n",
    "# Aplicar codificação one-hot\n",
    "encoded_data = pd.get_dummies(expanded_data, columns=cols_to_encode, drop_first=False)\n",
    "\n",
    "print(encoded_data.head())\n",
    "print(\"Total de colunas após a codificação:\", encoded_data.shape[1])\n"
   ]
  },
  {
   "cell_type": "code",
   "execution_count": 6,
   "metadata": {},
   "outputs": [],
   "source": [
    "# Agrupando e somando os valores\n",
    "df_agrupado = encoded_data.groupby(['Nome da Faixa', 'Cantor ou Compositor']).sum().reset_index()\n",
    "\n",
    "# Convertendo valores maiores que 1 de volta para 1 (caso haja alguma soma que resultou em um valor > 1)\n",
    "for col in df_agrupado.columns:\n",
    "    if 'Genero_' in col or 'Quadrante_' in col:\n",
    "        df_agrupado[col] = df_agrupado[col].apply(lambda x: 1 if x > 1 else x)\n"
   ]
  },
  {
   "cell_type": "code",
   "execution_count": 7,
   "metadata": {},
   "outputs": [],
   "source": [
    "# Salvando o df_agrupado em CSV\n",
    "\n",
    "df_agrupado.to_csv('spotify_dataset_grupado.csv', index=False)"
   ]
  },
  {
   "cell_type": "markdown",
   "metadata": {},
   "source": [
    "### Normalização"
   ]
  },
  {
   "cell_type": "code",
   "execution_count": 9,
   "metadata": {},
   "outputs": [
    {
     "name": "stderr",
     "output_type": "stream",
     "text": [
      "f:\\Programas\\anaconda3\\envs\\uspspotenv\\Lib\\site-packages\\sklearn\\utils\\validation.py:767: FutureWarning: is_sparse is deprecated and will be removed in a future version. Check `isinstance(dtype, pd.SparseDtype)` instead.\n",
      "  if not hasattr(array, \"sparse\") and array.dtypes.apply(is_sparse).any():\n",
      "f:\\Programas\\anaconda3\\envs\\uspspotenv\\Lib\\site-packages\\sklearn\\utils\\validation.py:605: FutureWarning: is_sparse is deprecated and will be removed in a future version. Check `isinstance(dtype, pd.SparseDtype)` instead.\n",
      "  if is_sparse(pd_dtype):\n",
      "f:\\Programas\\anaconda3\\envs\\uspspotenv\\Lib\\site-packages\\sklearn\\utils\\validation.py:614: FutureWarning: is_sparse is deprecated and will be removed in a future version. Check `isinstance(dtype, pd.SparseDtype)` instead.\n",
      "  if is_sparse(pd_dtype) or not is_extension_array_dtype(pd_dtype):\n",
      "f:\\Programas\\anaconda3\\envs\\uspspotenv\\Lib\\site-packages\\sklearn\\utils\\validation.py:767: FutureWarning: is_sparse is deprecated and will be removed in a future version. Check `isinstance(dtype, pd.SparseDtype)` instead.\n",
      "  if not hasattr(array, \"sparse\") and array.dtypes.apply(is_sparse).any():\n",
      "f:\\Programas\\anaconda3\\envs\\uspspotenv\\Lib\\site-packages\\sklearn\\utils\\validation.py:605: FutureWarning: is_sparse is deprecated and will be removed in a future version. Check `isinstance(dtype, pd.SparseDtype)` instead.\n",
      "  if is_sparse(pd_dtype):\n",
      "f:\\Programas\\anaconda3\\envs\\uspspotenv\\Lib\\site-packages\\sklearn\\utils\\validation.py:614: FutureWarning: is_sparse is deprecated and will be removed in a future version. Check `isinstance(dtype, pd.SparseDtype)` instead.\n",
      "  if is_sparse(pd_dtype) or not is_extension_array_dtype(pd_dtype):\n"
     ]
    }
   ],
   "source": [
    "from sklearn.preprocessing import MinMaxScaler\n",
    "\n",
    "# Criando o objeto scaler\n",
    "scaler = MinMaxScaler()\n",
    "\n",
    "# Lista de colunas numéricas para normalizar\n",
    "# (Adicione ou remova colunas da lista conforme necessário)\n",
    "colunas_numericas = [\n",
    "    'acousticness', 'danceability', 'energy', 'instrumentalness', 'key', 'liveness',\n",
    "    'loudness', 'mode', 'speechiness', 'tempo', 'valence'\n",
    "]\n",
    "\n",
    "# Aplicando a normalização\n",
    "df_agrupado[colunas_numericas] = scaler.fit_transform(df_agrupado[colunas_numericas])\n"
   ]
  },
  {
   "cell_type": "markdown",
   "metadata": {},
   "source": [
    "Divisão de Dados:"
   ]
  },
  {
   "cell_type": "code",
   "execution_count": 10,
   "metadata": {},
   "outputs": [],
   "source": [
    "# Convertendo de one-hot encoding para uma única coluna de classificação\n",
    "df_agrupado['target'] = df_agrupado[['Quadrante_Q1', 'Quadrante_Q2', 'Quadrante_Q3', 'Quadrante_Q4']].idxmax(axis=1)\n"
   ]
  },
  {
   "cell_type": "code",
   "execution_count": 11,
   "metadata": {},
   "outputs": [
    {
     "name": "stderr",
     "output_type": "stream",
     "text": [
      "f:\\Programas\\anaconda3\\envs\\uspspotenv\\Lib\\site-packages\\sklearn\\utils\\validation.py:605: FutureWarning: is_sparse is deprecated and will be removed in a future version. Check `isinstance(dtype, pd.SparseDtype)` instead.\n",
      "  if is_sparse(pd_dtype):\n",
      "f:\\Programas\\anaconda3\\envs\\uspspotenv\\Lib\\site-packages\\sklearn\\utils\\validation.py:614: FutureWarning: is_sparse is deprecated and will be removed in a future version. Check `isinstance(dtype, pd.SparseDtype)` instead.\n",
      "  if is_sparse(pd_dtype) or not is_extension_array_dtype(pd_dtype):\n",
      "f:\\Programas\\anaconda3\\envs\\uspspotenv\\Lib\\site-packages\\sklearn\\utils\\validation.py:605: FutureWarning: is_sparse is deprecated and will be removed in a future version. Check `isinstance(dtype, pd.SparseDtype)` instead.\n",
      "  if is_sparse(pd_dtype):\n",
      "f:\\Programas\\anaconda3\\envs\\uspspotenv\\Lib\\site-packages\\sklearn\\utils\\validation.py:614: FutureWarning: is_sparse is deprecated and will be removed in a future version. Check `isinstance(dtype, pd.SparseDtype)` instead.\n",
      "  if is_sparse(pd_dtype) or not is_extension_array_dtype(pd_dtype):\n"
     ]
    }
   ],
   "source": [
    "from sklearn.model_selection import train_test_split\n",
    "\n",
    "# Primeira divisão: 70% para treinamento e 30% temporário\n",
    "X_train, X_temp, y_train, y_temp = train_test_split(\n",
    "    df_agrupado.drop('target', axis=1), \n",
    "    df_agrupado['target'], \n",
    "    test_size=0.3, \n",
    "    random_state=42, \n",
    "    stratify=df_agrupado['target']\n",
    ")\n",
    "\n",
    "# Divisão do conjunto temporário em validação e teste (metade de cada)\n",
    "X_val, X_test, y_val, y_test = train_test_split(\n",
    "    X_temp, \n",
    "    y_temp, \n",
    "    test_size=0.5, \n",
    "    random_state=42, \n",
    "    stratify=y_temp\n",
    ")"
   ]
  },
  {
   "cell_type": "code",
   "execution_count": 12,
   "metadata": {},
   "outputs": [
    {
     "name": "stdout",
     "output_type": "stream",
     "text": [
      "Proporção no Treinamento:\n",
      " target\n",
      "Quadrante_Q4    0.261134\n",
      "Quadrante_Q1    0.251012\n",
      "Quadrante_Q2    0.248988\n",
      "Quadrante_Q3    0.238866\n",
      "Name: proportion, dtype: float64\n",
      "\n",
      "Proporção na Validação:\n",
      " target\n",
      "Quadrante_Q4    0.264151\n",
      "Quadrante_Q2    0.254717\n",
      "Quadrante_Q1    0.245283\n",
      "Quadrante_Q3    0.235849\n",
      "Name: proportion, dtype: float64\n",
      "\n",
      "Proporção no Teste:\n",
      " target\n",
      "Quadrante_Q4    0.264151\n",
      "Quadrante_Q1    0.254717\n",
      "Quadrante_Q2    0.245283\n",
      "Quadrante_Q3    0.235849\n",
      "Name: proportion, dtype: float64\n"
     ]
    }
   ],
   "source": [
    "print(\"Proporção no Treinamento:\\n\", y_train.value_counts(normalize=True))\n",
    "print(\"\\nProporção na Validação:\\n\", y_val.value_counts(normalize=True))\n",
    "print(\"\\nProporção no Teste:\\n\", y_test.value_counts(normalize=True))"
   ]
  },
  {
   "cell_type": "code",
   "execution_count": 15,
   "metadata": {},
   "outputs": [],
   "source": [
    "df_agrupado_modelo  = df_agrupado\n",
    "df_agrupado_modelo.to_csv('spotify_dataset_grupado_modelo.csv', index=False)"
   ]
  },
  {
   "cell_type": "code",
   "execution_count": 16,
   "metadata": {},
   "outputs": [
    {
     "name": "stderr",
     "output_type": "stream",
     "text": [
      "f:\\Programas\\anaconda3\\envs\\uspspotenv\\Lib\\site-packages\\sklearn\\utils\\validation.py:605: FutureWarning: is_sparse is deprecated and will be removed in a future version. Check `isinstance(dtype, pd.SparseDtype)` instead.\n",
      "  if is_sparse(pd_dtype):\n",
      "f:\\Programas\\anaconda3\\envs\\uspspotenv\\Lib\\site-packages\\sklearn\\utils\\validation.py:614: FutureWarning: is_sparse is deprecated and will be removed in a future version. Check `isinstance(dtype, pd.SparseDtype)` instead.\n",
      "  if is_sparse(pd_dtype) or not is_extension_array_dtype(pd_dtype):\n"
     ]
    }
   ],
   "source": [
    "# Removendo as colunas categóricas e one-hot originais\n",
    "X = df_agrupado.drop(columns=['Nome da Faixa', 'Cantor ou Compositor', 'Quadrante_Q1', 'Quadrante_Q2', 'Quadrante_Q3', 'Quadrante_Q4', 'target'])\n",
    "\n",
    "# A coluna 'target' deve ser a última coluna do dataframe df_agrupado após a remoção das outras\n",
    "y = df_agrupado['target']\n",
    "\n",
    "# Se a coluna 'target' ainda não foi transformada numericamente, use LabelEncoder\n",
    "from sklearn.preprocessing import LabelEncoder\n",
    "le = LabelEncoder()\n",
    "y = le.fit_transform(y)\n",
    "\n"
   ]
  },
  {
   "cell_type": "code",
   "execution_count": 18,
   "metadata": {},
   "outputs": [
    {
     "name": "stdout",
     "output_type": "stream",
     "text": [
      "acousticness             float64\n",
      "danceability             float64\n",
      "energy                   float64\n",
      "instrumentalness         float64\n",
      "key                      float64\n",
      "liveness                 float64\n",
      "loudness                 float64\n",
      "mode                     float64\n",
      "speechiness              float64\n",
      "tempo                    float64\n",
      "time_signature             int64\n",
      "valence                  float64\n",
      "Genero_Avant-Garde         int64\n",
      "Genero_Blues               int64\n",
      "Genero_Children's          int64\n",
      "Genero_Classical           int64\n",
      "Genero_Comedy/Spoken       int64\n",
      "Genero_Country             int64\n",
      "Genero_Easy Listening      int64\n",
      "Genero_Electronic          int64\n",
      "Genero_Folk                int64\n",
      "Genero_Holiday             int64\n",
      "Genero_International       int64\n",
      "Genero_Jazz                int64\n",
      "Genero_Latin               int64\n",
      "Genero_New Age             int64\n",
      "Genero_Pop/Rock            int64\n",
      "Genero_R&B                 int64\n",
      "Genero_Rap                 int64\n",
      "Genero_Reggae              int64\n",
      "Genero_Religious           int64\n",
      "Genero_Stage & Screen      int64\n",
      "Genero_Vocal               int64\n",
      "dtype: object\n",
      "acousticness             0\n",
      "danceability             0\n",
      "energy                   0\n",
      "instrumentalness         0\n",
      "key                      0\n",
      "liveness                 0\n",
      "loudness                 0\n",
      "mode                     0\n",
      "speechiness              0\n",
      "tempo                    0\n",
      "time_signature           0\n",
      "valence                  0\n",
      "Genero_Avant-Garde       0\n",
      "Genero_Blues             0\n",
      "Genero_Children's        0\n",
      "Genero_Classical         0\n",
      "Genero_Comedy/Spoken     0\n",
      "Genero_Country           0\n",
      "Genero_Easy Listening    0\n",
      "Genero_Electronic        0\n",
      "Genero_Folk              0\n",
      "Genero_Holiday           0\n",
      "Genero_International     0\n",
      "Genero_Jazz              0\n",
      "Genero_Latin             0\n",
      "Genero_New Age           0\n",
      "Genero_Pop/Rock          0\n",
      "Genero_R&B               0\n",
      "Genero_Rap               0\n",
      "Genero_Reggae            0\n",
      "Genero_Religious         0\n",
      "Genero_Stage & Screen    0\n",
      "Genero_Vocal             0\n",
      "dtype: int64\n",
      "[1 0 0 1 1 1 1 1 3 2 1 0 1 2 2 0 3 3 1 3 0 1 0 2 3 2 1 2 3 3 2 0 1 3 1 3 2\n",
      " 3 1 2 1 1 0 2 0 0 3 1 3 1 3 0 3 1 1 1 0 1 2 2 1 3 3 2 2 2 3 2 3 3 3 0 0 1\n",
      " 3 1 1 0 2 2 2 2 2 0 3 1 0 1 1 1 2 0 0 1 3 2 2 2 0 1 3 3 3 0 2 2 0 0 3 2 1\n",
      " 0 3 1 0 3 0 3 3 3 0 3 1 2 2 2 0 1 2 3 0 3 2 1 2 2 3 2 0 0 3 3 1 2 2 0 0 0\n",
      " 0 1 0 2 0 2 0 1 0 0 0 2 3 3 3 3 3 0 2 3 0 2 3 0 1 1 3 0 0 1 1 1 1 2 1 0 1\n",
      " 0 0 3 0 3 1 2 1 3 3 1 0 1 1 0 0 1 1 1 0 2 1 1 2 1 3 1 1 0 3 2 0 0 1 3 1 2\n",
      " 1 2 0 0 1 0 2 0 1 3 3 3 3 1 3 0 0 0 1 3 0 3 3 3 0 2 2 3 2 0 0 2 2 3 3 0 2\n",
      " 3 3 2 0 1 3 0 3 2 0 2 2 1 2 1 1 1 3 1 1 3 3 3 2 0 1 3 0 0 3 2 2 2 0 0 0 2\n",
      " 3 0 1 2 2 0 3 0 2 1 2 1 1 2 2 0 3 0 0 2 0 3 2 2 2 1 1 2 0 3 0 3 2 1 0 2 0\n",
      " 1 3 3 0 0 0 0 2 0 0 1 3 2 1 0 2 3 3 0 0 2 3 3 0 1 0 2 0 0 0 3 3 0 3 0 3 0\n",
      " 3 0 0 2 0 3 1 3 1 3 3 2 3 3 3 3 3 1 2 1 2 0 1 3 2 2 1 2 3 0 1 2 0 0 1 2 1\n",
      " 2 3 3 0 1 1 1 2 2 1 3 0 1 3 3 3 3 2 0 1 0 3 3 2 0 1 1 0 1 0 3 3 2 1 3 3 3\n",
      " 1 1 3 3 1 2 1 2 2 0 0 1 3 3 3 1 3 1 3 0 1 0 1 0 1 0 2 3 1 2 1 3 1 2 0 1 3\n",
      " 1 3 2 2 0 2 3 3 0 1 0 3 3 0 3 2 3 1 3 0 0 0 0 0 0 0 2 0 0 2 1 3 3 3 3 2 3\n",
      " 2 2 2 3 0 3 3 2 2 3 1 1 3 3 0 2 1 0 0 0 3 1 2 3 0 0 3 3 3 3 2 1 2 0 3 0 1\n",
      " 1 0 2 3 2 2 3 0 1 1 1 1 2 3 0 3 3 0 0 3 2 1 2 2 2 1 3 2 1 1 2 3 2 0 3 1 1\n",
      " 1 3 2 3 3 2 2 3 2 3 2 1 1 2 0 2 3 0 2 1 0 1 1 1 0 0 1 0 0 0 1 3 2 2 0 1 1\n",
      " 3 3 2 0 0 1 1 0 0 3 1 0 1 2 1 1 2 1 3 3 0 1 0 1 2 1 1 2 1 1 3 3 0 0 2 3 2\n",
      " 1 0 3 2 1 2 3 3 2 1 1 2 1 1 2 2 0 3 2 2 3 2 2 0 1 1 1 2 1 2 2 2 3 3 2 2 2\n",
      " 1 2 0]\n",
      "[0 1 2 3]\n",
      "(706, 33)\n",
      "(706,)\n"
     ]
    }
   ],
   "source": [
    "import numpy as np\n",
    "\n",
    "# Verificar tipos de dados\n",
    "print(X.dtypes)\n",
    "\n",
    "# Verificar a presença de valores nulos\n",
    "print(X.isnull().sum())\n",
    "\n",
    "# Verificar a codificação da variável alvo\n",
    "print(y)\n",
    "print(np.unique(y))  # Deve mostrar um array de inteiros começando de 0\n",
    "\n",
    "# Verificar o tamanho dos conjuntos de dados para garantir que eles estão alinhados\n",
    "print(X.shape)\n",
    "print(y.shape)\n"
   ]
  },
  {
   "cell_type": "markdown",
   "metadata": {},
   "source": [
    "## Modelo XGBoost"
   ]
  },
  {
   "cell_type": "code",
   "execution_count": 20,
   "metadata": {},
   "outputs": [
    {
     "ename": "ValueError",
     "evalue": "Invalid classes inferred from unique values of `y`.  Expected: [0 1 2 3], got ['Quadrante_Q1' 'Quadrante_Q2' 'Quadrante_Q3' 'Quadrante_Q4']",
     "output_type": "error",
     "traceback": [
      "\u001b[1;31m---------------------------------------------------------------------------\u001b[0m",
      "\u001b[1;31mValueError\u001b[0m                                Traceback (most recent call last)",
      "\u001b[1;32mc:\\Users\\luboh\\OneDrive\\Área de Trabalho\\USP\\EngDadosBigData\\eEDB-018_REPO\\DEVELOPER\\eEDB-018\\prj\\CODES\\SPOTIFY_API\\Main.ipynb Cell 22\u001b[0m line \u001b[0;36m7\n\u001b[0;32m      <a href='vscode-notebook-cell:/c%3A/Users/luboh/OneDrive/%C3%81rea%20de%20Trabalho/USP/EngDadosBigData/eEDB-018_REPO/DEVELOPER/eEDB-018/prj/CODES/SPOTIFY_API/Main.ipynb#X24sZmlsZQ%3D%3D?line=3'>4</a>\u001b[0m xgb_model \u001b[39m=\u001b[39m xgb\u001b[39m.\u001b[39mXGBClassifier(objective\u001b[39m=\u001b[39m\u001b[39m'\u001b[39m\u001b[39mmulti:softprob\u001b[39m\u001b[39m'\u001b[39m, num_class\u001b[39m=\u001b[39m\u001b[39m4\u001b[39m, eval_metric\u001b[39m=\u001b[39m\u001b[39m'\u001b[39m\u001b[39mmlogloss\u001b[39m\u001b[39m'\u001b[39m)\n\u001b[0;32m      <a href='vscode-notebook-cell:/c%3A/Users/luboh/OneDrive/%C3%81rea%20de%20Trabalho/USP/EngDadosBigData/eEDB-018_REPO/DEVELOPER/eEDB-018/prj/CODES/SPOTIFY_API/Main.ipynb#X24sZmlsZQ%3D%3D?line=5'>6</a>\u001b[0m \u001b[39m# Treine o modelo\u001b[39;00m\n\u001b[1;32m----> <a href='vscode-notebook-cell:/c%3A/Users/luboh/OneDrive/%C3%81rea%20de%20Trabalho/USP/EngDadosBigData/eEDB-018_REPO/DEVELOPER/eEDB-018/prj/CODES/SPOTIFY_API/Main.ipynb#X24sZmlsZQ%3D%3D?line=6'>7</a>\u001b[0m xgb_model\u001b[39m.\u001b[39;49mfit(X_train, y_train)\n\u001b[0;32m      <a href='vscode-notebook-cell:/c%3A/Users/luboh/OneDrive/%C3%81rea%20de%20Trabalho/USP/EngDadosBigData/eEDB-018_REPO/DEVELOPER/eEDB-018/prj/CODES/SPOTIFY_API/Main.ipynb#X24sZmlsZQ%3D%3D?line=8'>9</a>\u001b[0m \u001b[39m# Faça previsões no conjunto de validação\u001b[39;00m\n\u001b[0;32m     <a href='vscode-notebook-cell:/c%3A/Users/luboh/OneDrive/%C3%81rea%20de%20Trabalho/USP/EngDadosBigData/eEDB-018_REPO/DEVELOPER/eEDB-018/prj/CODES/SPOTIFY_API/Main.ipynb#X24sZmlsZQ%3D%3D?line=9'>10</a>\u001b[0m y_val_pred \u001b[39m=\u001b[39m xgb_model\u001b[39m.\u001b[39mpredict(X_val)\n",
      "File \u001b[1;32mf:\\Programas\\anaconda3\\envs\\uspspotenv\\Lib\\site-packages\\xgboost\\core.py:620\u001b[0m, in \u001b[0;36mrequire_keyword_args.<locals>.throw_if.<locals>.inner_f\u001b[1;34m(*args, **kwargs)\u001b[0m\n\u001b[0;32m    618\u001b[0m \u001b[39mfor\u001b[39;00m k, arg \u001b[39min\u001b[39;00m \u001b[39mzip\u001b[39m(sig\u001b[39m.\u001b[39mparameters, args):\n\u001b[0;32m    619\u001b[0m     kwargs[k] \u001b[39m=\u001b[39m arg\n\u001b[1;32m--> 620\u001b[0m \u001b[39mreturn\u001b[39;00m func(\u001b[39m*\u001b[39;49m\u001b[39m*\u001b[39;49mkwargs)\n",
      "File \u001b[1;32mf:\\Programas\\anaconda3\\envs\\uspspotenv\\Lib\\site-packages\\xgboost\\sklearn.py:1440\u001b[0m, in \u001b[0;36mXGBClassifier.fit\u001b[1;34m(self, X, y, sample_weight, base_margin, eval_set, eval_metric, early_stopping_rounds, verbose, xgb_model, sample_weight_eval_set, base_margin_eval_set, feature_weights, callbacks)\u001b[0m\n\u001b[0;32m   1435\u001b[0m     expected_classes \u001b[39m=\u001b[39m np\u001b[39m.\u001b[39marange(\u001b[39mself\u001b[39m\u001b[39m.\u001b[39mn_classes_)\n\u001b[0;32m   1436\u001b[0m \u001b[39mif\u001b[39;00m (\n\u001b[0;32m   1437\u001b[0m     \u001b[39mself\u001b[39m\u001b[39m.\u001b[39mclasses_\u001b[39m.\u001b[39mshape \u001b[39m!=\u001b[39m expected_classes\u001b[39m.\u001b[39mshape\n\u001b[0;32m   1438\u001b[0m     \u001b[39mor\u001b[39;00m \u001b[39mnot\u001b[39;00m (\u001b[39mself\u001b[39m\u001b[39m.\u001b[39mclasses_ \u001b[39m==\u001b[39m expected_classes)\u001b[39m.\u001b[39mall()\n\u001b[0;32m   1439\u001b[0m ):\n\u001b[1;32m-> 1440\u001b[0m     \u001b[39mraise\u001b[39;00m \u001b[39mValueError\u001b[39;00m(\n\u001b[0;32m   1441\u001b[0m         \u001b[39mf\u001b[39m\u001b[39m\"\u001b[39m\u001b[39mInvalid classes inferred from unique values of `y`.  \u001b[39m\u001b[39m\"\u001b[39m\n\u001b[0;32m   1442\u001b[0m         \u001b[39mf\u001b[39m\u001b[39m\"\u001b[39m\u001b[39mExpected: \u001b[39m\u001b[39m{\u001b[39;00mexpected_classes\u001b[39m}\u001b[39;00m\u001b[39m, got \u001b[39m\u001b[39m{\u001b[39;00m\u001b[39mself\u001b[39m\u001b[39m.\u001b[39mclasses_\u001b[39m}\u001b[39;00m\u001b[39m\"\u001b[39m\n\u001b[0;32m   1443\u001b[0m     )\n\u001b[0;32m   1445\u001b[0m params \u001b[39m=\u001b[39m \u001b[39mself\u001b[39m\u001b[39m.\u001b[39mget_xgb_params()\n\u001b[0;32m   1447\u001b[0m \u001b[39mif\u001b[39;00m \u001b[39mcallable\u001b[39m(\u001b[39mself\u001b[39m\u001b[39m.\u001b[39mobjective):\n",
      "\u001b[1;31mValueError\u001b[0m: Invalid classes inferred from unique values of `y`.  Expected: [0 1 2 3], got ['Quadrante_Q1' 'Quadrante_Q2' 'Quadrante_Q3' 'Quadrante_Q4']"
     ]
    }
   ],
   "source": [
    "import xgboost as xgb\n",
    "\n",
    "# Crie o objeto do classificador XGBoost\n",
    "xgb_model = xgb.XGBClassifier(objective='multi:softprob', num_class=4, eval_metric='mlogloss')\n",
    "\n",
    "# Treine o modelo\n",
    "xgb_model.fit(X_train, y_train)\n",
    "\n",
    "# Faça previsões no conjunto de validação\n",
    "y_val_pred = xgb_model.predict(X_val)\n",
    "\n",
    "# Avalie o modelo\n",
    "from sklearn.metrics import accuracy_score, classification_report\n",
    "print(accuracy_score(y_val, y_val_pred))\n",
    "print(classification_report(y_val, y_val_pred))\n"
   ]
  },
  {
   "cell_type": "code",
   "execution_count": 21,
   "metadata": {},
   "outputs": [
    {
     "name": "stdout",
     "output_type": "stream",
     "text": [
      "[0 1 2 3]\n"
     ]
    },
    {
     "name": "stderr",
     "output_type": "stream",
     "text": [
      "f:\\Programas\\anaconda3\\envs\\uspspotenv\\Lib\\site-packages\\sklearn\\utils\\validation.py:605: FutureWarning: is_sparse is deprecated and will be removed in a future version. Check `isinstance(dtype, pd.SparseDtype)` instead.\n",
      "  if is_sparse(pd_dtype):\n",
      "f:\\Programas\\anaconda3\\envs\\uspspotenv\\Lib\\site-packages\\sklearn\\utils\\validation.py:614: FutureWarning: is_sparse is deprecated and will be removed in a future version. Check `isinstance(dtype, pd.SparseDtype)` instead.\n",
      "  if is_sparse(pd_dtype) or not is_extension_array_dtype(pd_dtype):\n"
     ]
    }
   ],
   "source": [
    "from sklearn.preprocessing import LabelEncoder\n",
    "\n",
    "# Supondo que df_agrupado['target'] contém os rótulos de classe originais\n",
    "le = LabelEncoder()\n",
    "y_encoded = le.fit_transform(df_agrupado['target'])\n",
    "\n",
    "# Verifique se as classes estão corretamente codificadas\n",
    "print(np.unique(y_encoded))"
   ]
  },
  {
   "cell_type": "code",
   "execution_count": null,
   "metadata": {},
   "outputs": [],
   "source": [
    "# Crie o objeto do classificador XGBoost, garantindo que num_class corresponda ao número de classes únicas\n",
    "xgb_model = xgb.XGBClassifier(objective='multi:softprob', num_class=len(np.unique(y_encoded)), eval_metric='mlogloss')\n",
    "\n",
    "# Agora, treine o modelo com y_encoded\n",
    "xgb_model.fit(X_train, y_encoded[train_index])  # Certifique-se de usar os índices corretos se você dividiu os dados\n"
   ]
  },
  {
   "cell_type": "markdown",
   "metadata": {},
   "source": [
    "### REEXECUÇÃO PARTINDO DO DATASET AGRUPADO"
   ]
  },
  {
   "cell_type": "code",
   "execution_count": 23,
   "metadata": {},
   "outputs": [
    {
     "name": "stdout",
     "output_type": "stream",
     "text": [
      "object\n"
     ]
    },
    {
     "name": "stderr",
     "output_type": "stream",
     "text": [
      "f:\\Programas\\anaconda3\\envs\\uspspotenv\\Lib\\site-packages\\sklearn\\utils\\validation.py:605: FutureWarning: is_sparse is deprecated and will be removed in a future version. Check `isinstance(dtype, pd.SparseDtype)` instead.\n",
      "  if is_sparse(pd_dtype):\n",
      "f:\\Programas\\anaconda3\\envs\\uspspotenv\\Lib\\site-packages\\sklearn\\utils\\validation.py:614: FutureWarning: is_sparse is deprecated and will be removed in a future version. Check `isinstance(dtype, pd.SparseDtype)` instead.\n",
      "  if is_sparse(pd_dtype) or not is_extension_array_dtype(pd_dtype):\n"
     ]
    }
   ],
   "source": [
    "# Supondo que 'df_agrupado' seja o seu DataFrame original.\n",
    "# Primeiro, vamos remover as colunas que não são necessárias para o modelo\n",
    "colunas_para_remover = ['Nome da Faixa', 'Cantor ou Compositor']  # Adicione outras colunas que não serão usadas\n",
    "df_modelo = df_agrupado.drop(colunas_para_remover, axis=1)\n",
    "\n",
    "# Se a coluna 'target' já estiver em formato numérico, ótimo. Se não, precisamos codificá-la.\n",
    "# Vamos verificar se 'target' já é numérica:\n",
    "print(df_modelo['target'].dtype)\n",
    "\n",
    "# Se 'target' não for numérica (por exemplo, se o dtype for 'object'), use LabelEncoder para transformá-la.\n",
    "if df_modelo['target'].dtype == 'object':\n",
    "    from sklearn.preprocessing import LabelEncoder\n",
    "    le = LabelEncoder()\n",
    "    df_modelo['target'] = le.fit_transform(df_modelo['target'])\n"
   ]
  },
  {
   "cell_type": "code",
   "execution_count": 24,
   "metadata": {},
   "outputs": [
    {
     "name": "stdout",
     "output_type": "stream",
     "text": [
      "       acousticness  danceability      energy  instrumentalness         key  \\\n",
      "count    706.000000    706.000000  706.000000      7.060000e+02  706.000000   \n",
      "mean       0.177519      0.271518    0.204178      7.830877e-02    0.200252   \n",
      "std        0.192592      0.161460    0.141199      1.605295e-01    0.179007   \n",
      "min        0.000000      0.000000    0.000000      0.000000e+00    0.000000   \n",
      "25%        0.010016      0.150802    0.105134      9.371585e-07    0.066667   \n",
      "50%        0.115250      0.223761    0.176033      2.128962e-04    0.155556   \n",
      "75%        0.315359      0.370408    0.257503      7.065574e-02    0.311111   \n",
      "max        1.000000      1.000000    1.000000      1.000000e+00    1.000000   \n",
      "\n",
      "         liveness    loudness        mode  speechiness       tempo  \\\n",
      "count  706.000000  706.000000  706.000000   706.000000  706.000000   \n",
      "mean     0.102446    0.819338    0.237677     0.115395    0.255951   \n",
      "std      0.120591    0.151081    0.214105     0.115837    0.136806   \n",
      "min      0.000000    0.000000    0.000000     0.000000    0.000000   \n",
      "25%      0.031555    0.766170    0.000000     0.050617    0.148233   \n",
      "50%      0.063792    0.867095    0.200000     0.078477    0.227827   \n",
      "75%      0.110033    0.923734    0.400000     0.128313    0.325252   \n",
      "max      1.000000    1.000000    1.000000     1.000000    1.000000   \n",
      "\n",
      "       time_signature     valence  \n",
      "count      706.000000  706.000000  \n",
      "mean         0.344405    0.219269  \n",
      "std          0.162888    0.161494  \n",
      "min          0.000000    0.000000  \n",
      "25%          0.200000    0.099877  \n",
      "50%          0.400000    0.185117  \n",
      "75%          0.400000    0.310701  \n",
      "max          1.000000    1.000000  \n"
     ]
    },
    {
     "name": "stderr",
     "output_type": "stream",
     "text": [
      "f:\\Programas\\anaconda3\\envs\\uspspotenv\\Lib\\site-packages\\sklearn\\utils\\validation.py:767: FutureWarning: is_sparse is deprecated and will be removed in a future version. Check `isinstance(dtype, pd.SparseDtype)` instead.\n",
      "  if not hasattr(array, \"sparse\") and array.dtypes.apply(is_sparse).any():\n",
      "f:\\Programas\\anaconda3\\envs\\uspspotenv\\Lib\\site-packages\\sklearn\\utils\\validation.py:605: FutureWarning: is_sparse is deprecated and will be removed in a future version. Check `isinstance(dtype, pd.SparseDtype)` instead.\n",
      "  if is_sparse(pd_dtype):\n",
      "f:\\Programas\\anaconda3\\envs\\uspspotenv\\Lib\\site-packages\\sklearn\\utils\\validation.py:614: FutureWarning: is_sparse is deprecated and will be removed in a future version. Check `isinstance(dtype, pd.SparseDtype)` instead.\n",
      "  if is_sparse(pd_dtype) or not is_extension_array_dtype(pd_dtype):\n",
      "f:\\Programas\\anaconda3\\envs\\uspspotenv\\Lib\\site-packages\\sklearn\\utils\\validation.py:767: FutureWarning: is_sparse is deprecated and will be removed in a future version. Check `isinstance(dtype, pd.SparseDtype)` instead.\n",
      "  if not hasattr(array, \"sparse\") and array.dtypes.apply(is_sparse).any():\n",
      "f:\\Programas\\anaconda3\\envs\\uspspotenv\\Lib\\site-packages\\sklearn\\utils\\validation.py:605: FutureWarning: is_sparse is deprecated and will be removed in a future version. Check `isinstance(dtype, pd.SparseDtype)` instead.\n",
      "  if is_sparse(pd_dtype):\n",
      "f:\\Programas\\anaconda3\\envs\\uspspotenv\\Lib\\site-packages\\sklearn\\utils\\validation.py:614: FutureWarning: is_sparse is deprecated and will be removed in a future version. Check `isinstance(dtype, pd.SparseDtype)` instead.\n",
      "  if is_sparse(pd_dtype) or not is_extension_array_dtype(pd_dtype):\n"
     ]
    }
   ],
   "source": [
    "from sklearn.preprocessing import MinMaxScaler\n",
    "\n",
    "# Cria o objeto scaler\n",
    "scaler = MinMaxScaler()\n",
    "\n",
    "# Lista das colunas numéricas para normalizar\n",
    "colunas_numericas = ['acousticness', 'danceability', 'energy', 'instrumentalness', 'key', 'liveness', 'loudness', 'mode', 'speechiness', 'tempo', 'time_signature', 'valence']\n",
    "\n",
    "# Aplica a normalização\n",
    "df_modelo[colunas_numericas] = scaler.fit_transform(df_modelo[colunas_numericas])\n",
    "\n",
    "# Confirma que a normalização foi aplicada\n",
    "print(df_modelo[colunas_numericas].describe())\n"
   ]
  },
  {
   "cell_type": "code",
   "execution_count": 25,
   "metadata": {},
   "outputs": [
    {
     "name": "stderr",
     "output_type": "stream",
     "text": [
      "f:\\Programas\\anaconda3\\envs\\uspspotenv\\Lib\\site-packages\\sklearn\\utils\\validation.py:605: FutureWarning: is_sparse is deprecated and will be removed in a future version. Check `isinstance(dtype, pd.SparseDtype)` instead.\n",
      "  if is_sparse(pd_dtype):\n",
      "f:\\Programas\\anaconda3\\envs\\uspspotenv\\Lib\\site-packages\\sklearn\\utils\\validation.py:614: FutureWarning: is_sparse is deprecated and will be removed in a future version. Check `isinstance(dtype, pd.SparseDtype)` instead.\n",
      "  if is_sparse(pd_dtype) or not is_extension_array_dtype(pd_dtype):\n"
     ]
    },
    {
     "name": "stdout",
     "output_type": "stream",
     "text": [
      "(494, 37) (212, 37)\n",
      "(494,) (212,)\n"
     ]
    }
   ],
   "source": [
    "from sklearn.model_selection import train_test_split\n",
    "\n",
    "# Separa os recursos (X) e o target (y)\n",
    "X = df_modelo.drop('target', axis=1)\n",
    "y = df_modelo['target']\n",
    "\n",
    "# Divide os dados em treino e teste\n",
    "X_train, X_test, y_train, y_test = train_test_split(X, y, test_size=0.3, random_state=42, stratify=y)\n",
    "\n",
    "# Confirma a divisão dos dados\n",
    "print(X_train.shape, X_test.shape)\n",
    "print(y_train.shape, y_test.shape)\n"
   ]
  },
  {
   "cell_type": "code",
   "execution_count": 26,
   "metadata": {},
   "outputs": [
    {
     "name": "stderr",
     "output_type": "stream",
     "text": [
      "f:\\Programas\\anaconda3\\envs\\uspspotenv\\Lib\\site-packages\\xgboost\\data.py:299: FutureWarning: is_sparse is deprecated and will be removed in a future version. Check `isinstance(dtype, pd.SparseDtype)` instead.\n",
      "  if is_sparse(dtype):\n",
      "f:\\Programas\\anaconda3\\envs\\uspspotenv\\Lib\\site-packages\\xgboost\\data.py:301: FutureWarning: is_categorical_dtype is deprecated and will be removed in a future version. Use isinstance(dtype, CategoricalDtype) instead\n",
      "  elif is_categorical_dtype(dtype) and enable_categorical:\n",
      "f:\\Programas\\anaconda3\\envs\\uspspotenv\\Lib\\site-packages\\xgboost\\data.py:332: FutureWarning: is_categorical_dtype is deprecated and will be removed in a future version. Use isinstance(dtype, CategoricalDtype) instead\n",
      "  if is_categorical_dtype(dtype)\n",
      "f:\\Programas\\anaconda3\\envs\\uspspotenv\\Lib\\site-packages\\xgboost\\data.py:323: FutureWarning: is_categorical_dtype is deprecated and will be removed in a future version. Use isinstance(dtype, CategoricalDtype) instead\n",
      "  return is_int or is_bool or is_float or is_categorical_dtype(dtype)\n",
      "f:\\Programas\\anaconda3\\envs\\uspspotenv\\Lib\\site-packages\\xgboost\\data.py:427: FutureWarning: is_sparse is deprecated and will be removed in a future version. Check `isinstance(dtype, pd.SparseDtype)` instead.\n",
      "  if is_sparse(data):\n"
     ]
    },
    {
     "name": "stdout",
     "output_type": "stream",
     "text": [
      "1.0\n",
      "              precision    recall  f1-score   support\n",
      "\n",
      "           0       1.00      1.00      1.00        53\n",
      "           1       1.00      1.00      1.00        53\n",
      "           2       1.00      1.00      1.00        50\n",
      "           3       1.00      1.00      1.00        56\n",
      "\n",
      "    accuracy                           1.00       212\n",
      "   macro avg       1.00      1.00      1.00       212\n",
      "weighted avg       1.00      1.00      1.00       212\n",
      "\n"
     ]
    },
    {
     "name": "stderr",
     "output_type": "stream",
     "text": [
      "f:\\Programas\\anaconda3\\envs\\uspspotenv\\Lib\\site-packages\\xgboost\\data.py:299: FutureWarning: is_sparse is deprecated and will be removed in a future version. Check `isinstance(dtype, pd.SparseDtype)` instead.\n",
      "  if is_sparse(dtype):\n",
      "f:\\Programas\\anaconda3\\envs\\uspspotenv\\Lib\\site-packages\\xgboost\\data.py:301: FutureWarning: is_categorical_dtype is deprecated and will be removed in a future version. Use isinstance(dtype, CategoricalDtype) instead\n",
      "  elif is_categorical_dtype(dtype) and enable_categorical:\n",
      "f:\\Programas\\anaconda3\\envs\\uspspotenv\\Lib\\site-packages\\xgboost\\data.py:332: FutureWarning: is_categorical_dtype is deprecated and will be removed in a future version. Use isinstance(dtype, CategoricalDtype) instead\n",
      "  if is_categorical_dtype(dtype)\n",
      "f:\\Programas\\anaconda3\\envs\\uspspotenv\\Lib\\site-packages\\xgboost\\data.py:323: FutureWarning: is_categorical_dtype is deprecated and will be removed in a future version. Use isinstance(dtype, CategoricalDtype) instead\n",
      "  return is_int or is_bool or is_float or is_categorical_dtype(dtype)\n",
      "f:\\Programas\\anaconda3\\envs\\uspspotenv\\Lib\\site-packages\\sklearn\\utils\\validation.py:605: FutureWarning: is_sparse is deprecated and will be removed in a future version. Check `isinstance(dtype, pd.SparseDtype)` instead.\n",
      "  if is_sparse(pd_dtype):\n",
      "f:\\Programas\\anaconda3\\envs\\uspspotenv\\Lib\\site-packages\\sklearn\\utils\\validation.py:614: FutureWarning: is_sparse is deprecated and will be removed in a future version. Check `isinstance(dtype, pd.SparseDtype)` instead.\n",
      "  if is_sparse(pd_dtype) or not is_extension_array_dtype(pd_dtype):\n",
      "f:\\Programas\\anaconda3\\envs\\uspspotenv\\Lib\\site-packages\\sklearn\\utils\\validation.py:605: FutureWarning: is_sparse is deprecated and will be removed in a future version. Check `isinstance(dtype, pd.SparseDtype)` instead.\n",
      "  if is_sparse(pd_dtype):\n",
      "f:\\Programas\\anaconda3\\envs\\uspspotenv\\Lib\\site-packages\\sklearn\\utils\\validation.py:614: FutureWarning: is_sparse is deprecated and will be removed in a future version. Check `isinstance(dtype, pd.SparseDtype)` instead.\n",
      "  if is_sparse(pd_dtype) or not is_extension_array_dtype(pd_dtype):\n",
      "f:\\Programas\\anaconda3\\envs\\uspspotenv\\Lib\\site-packages\\sklearn\\utils\\validation.py:605: FutureWarning: is_sparse is deprecated and will be removed in a future version. Check `isinstance(dtype, pd.SparseDtype)` instead.\n",
      "  if is_sparse(pd_dtype):\n",
      "f:\\Programas\\anaconda3\\envs\\uspspotenv\\Lib\\site-packages\\sklearn\\utils\\validation.py:614: FutureWarning: is_sparse is deprecated and will be removed in a future version. Check `isinstance(dtype, pd.SparseDtype)` instead.\n",
      "  if is_sparse(pd_dtype) or not is_extension_array_dtype(pd_dtype):\n",
      "f:\\Programas\\anaconda3\\envs\\uspspotenv\\Lib\\site-packages\\sklearn\\utils\\validation.py:605: FutureWarning: is_sparse is deprecated and will be removed in a future version. Check `isinstance(dtype, pd.SparseDtype)` instead.\n",
      "  if is_sparse(pd_dtype):\n",
      "f:\\Programas\\anaconda3\\envs\\uspspotenv\\Lib\\site-packages\\sklearn\\utils\\validation.py:614: FutureWarning: is_sparse is deprecated and will be removed in a future version. Check `isinstance(dtype, pd.SparseDtype)` instead.\n",
      "  if is_sparse(pd_dtype) or not is_extension_array_dtype(pd_dtype):\n",
      "f:\\Programas\\anaconda3\\envs\\uspspotenv\\Lib\\site-packages\\sklearn\\utils\\validation.py:605: FutureWarning: is_sparse is deprecated and will be removed in a future version. Check `isinstance(dtype, pd.SparseDtype)` instead.\n",
      "  if is_sparse(pd_dtype):\n",
      "f:\\Programas\\anaconda3\\envs\\uspspotenv\\Lib\\site-packages\\sklearn\\utils\\validation.py:614: FutureWarning: is_sparse is deprecated and will be removed in a future version. Check `isinstance(dtype, pd.SparseDtype)` instead.\n",
      "  if is_sparse(pd_dtype) or not is_extension_array_dtype(pd_dtype):\n",
      "f:\\Programas\\anaconda3\\envs\\uspspotenv\\Lib\\site-packages\\sklearn\\utils\\validation.py:605: FutureWarning: is_sparse is deprecated and will be removed in a future version. Check `isinstance(dtype, pd.SparseDtype)` instead.\n",
      "  if is_sparse(pd_dtype):\n",
      "f:\\Programas\\anaconda3\\envs\\uspspotenv\\Lib\\site-packages\\sklearn\\utils\\validation.py:614: FutureWarning: is_sparse is deprecated and will be removed in a future version. Check `isinstance(dtype, pd.SparseDtype)` instead.\n",
      "  if is_sparse(pd_dtype) or not is_extension_array_dtype(pd_dtype):\n"
     ]
    }
   ],
   "source": [
    "import xgboost as xgb\n",
    "\n",
    "# Cria o objeto do classificador XGBoost\n",
    "xgb_model = xgb.XGBClassifier(objective='multi:softprob', num_class=len(np.unique(y)), eval_metric='mlogloss')\n",
    "\n",
    "# Treina o modelo\n",
    "xgb_model.fit(X_train, y_train)\n",
    "\n",
    "# Faz previsões no conjunto de teste\n",
    "y_pred = xgb_model.predict(X_test)\n",
    "\n",
    "# Avalia o modelo\n",
    "from sklearn.metrics import accuracy_score, classification_report\n",
    "print(accuracy_score(y_test, y_pred))\n",
    "print(classification_report(y_test, y_pred))\n"
   ]
  },
  {
   "cell_type": "code",
   "execution_count": 27,
   "metadata": {},
   "outputs": [
    {
     "name": "stderr",
     "output_type": "stream",
     "text": [
      "f:\\Programas\\anaconda3\\envs\\uspspotenv\\Lib\\site-packages\\sklearn\\utils\\validation.py:767: FutureWarning: is_sparse is deprecated and will be removed in a future version. Check `isinstance(dtype, pd.SparseDtype)` instead.\n",
      "  if not hasattr(array, \"sparse\") and array.dtypes.apply(is_sparse).any():\n",
      "f:\\Programas\\anaconda3\\envs\\uspspotenv\\Lib\\site-packages\\sklearn\\utils\\validation.py:605: FutureWarning: is_sparse is deprecated and will be removed in a future version. Check `isinstance(dtype, pd.SparseDtype)` instead.\n",
      "  if is_sparse(pd_dtype):\n",
      "f:\\Programas\\anaconda3\\envs\\uspspotenv\\Lib\\site-packages\\sklearn\\utils\\validation.py:614: FutureWarning: is_sparse is deprecated and will be removed in a future version. Check `isinstance(dtype, pd.SparseDtype)` instead.\n",
      "  if is_sparse(pd_dtype) or not is_extension_array_dtype(pd_dtype):\n",
      "f:\\Programas\\anaconda3\\envs\\uspspotenv\\Lib\\site-packages\\sklearn\\utils\\validation.py:605: FutureWarning: is_sparse is deprecated and will be removed in a future version. Check `isinstance(dtype, pd.SparseDtype)` instead.\n",
      "  if is_sparse(pd_dtype):\n",
      "f:\\Programas\\anaconda3\\envs\\uspspotenv\\Lib\\site-packages\\sklearn\\utils\\validation.py:614: FutureWarning: is_sparse is deprecated and will be removed in a future version. Check `isinstance(dtype, pd.SparseDtype)` instead.\n",
      "  if is_sparse(pd_dtype) or not is_extension_array_dtype(pd_dtype):\n"
     ]
    },
    {
     "name": "stdout",
     "output_type": "stream",
     "text": [
      "1.0\n",
      "              precision    recall  f1-score   support\n",
      "\n",
      "           0       1.00      1.00      1.00        53\n",
      "           1       1.00      1.00      1.00        53\n",
      "           2       1.00      1.00      1.00        50\n",
      "           3       1.00      1.00      1.00        56\n",
      "\n",
      "    accuracy                           1.00       212\n",
      "   macro avg       1.00      1.00      1.00       212\n",
      "weighted avg       1.00      1.00      1.00       212\n",
      "\n"
     ]
    },
    {
     "name": "stderr",
     "output_type": "stream",
     "text": [
      "f:\\Programas\\anaconda3\\envs\\uspspotenv\\Lib\\site-packages\\sklearn\\utils\\validation.py:767: FutureWarning: is_sparse is deprecated and will be removed in a future version. Check `isinstance(dtype, pd.SparseDtype)` instead.\n",
      "  if not hasattr(array, \"sparse\") and array.dtypes.apply(is_sparse).any():\n",
      "f:\\Programas\\anaconda3\\envs\\uspspotenv\\Lib\\site-packages\\sklearn\\utils\\validation.py:605: FutureWarning: is_sparse is deprecated and will be removed in a future version. Check `isinstance(dtype, pd.SparseDtype)` instead.\n",
      "  if is_sparse(pd_dtype):\n",
      "f:\\Programas\\anaconda3\\envs\\uspspotenv\\Lib\\site-packages\\sklearn\\utils\\validation.py:614: FutureWarning: is_sparse is deprecated and will be removed in a future version. Check `isinstance(dtype, pd.SparseDtype)` instead.\n",
      "  if is_sparse(pd_dtype) or not is_extension_array_dtype(pd_dtype):\n",
      "f:\\Programas\\anaconda3\\envs\\uspspotenv\\Lib\\site-packages\\sklearn\\utils\\validation.py:605: FutureWarning: is_sparse is deprecated and will be removed in a future version. Check `isinstance(dtype, pd.SparseDtype)` instead.\n",
      "  if is_sparse(pd_dtype):\n",
      "f:\\Programas\\anaconda3\\envs\\uspspotenv\\Lib\\site-packages\\sklearn\\utils\\validation.py:614: FutureWarning: is_sparse is deprecated and will be removed in a future version. Check `isinstance(dtype, pd.SparseDtype)` instead.\n",
      "  if is_sparse(pd_dtype) or not is_extension_array_dtype(pd_dtype):\n",
      "f:\\Programas\\anaconda3\\envs\\uspspotenv\\Lib\\site-packages\\sklearn\\utils\\validation.py:605: FutureWarning: is_sparse is deprecated and will be removed in a future version. Check `isinstance(dtype, pd.SparseDtype)` instead.\n",
      "  if is_sparse(pd_dtype):\n",
      "f:\\Programas\\anaconda3\\envs\\uspspotenv\\Lib\\site-packages\\sklearn\\utils\\validation.py:614: FutureWarning: is_sparse is deprecated and will be removed in a future version. Check `isinstance(dtype, pd.SparseDtype)` instead.\n",
      "  if is_sparse(pd_dtype) or not is_extension_array_dtype(pd_dtype):\n",
      "f:\\Programas\\anaconda3\\envs\\uspspotenv\\Lib\\site-packages\\sklearn\\utils\\validation.py:605: FutureWarning: is_sparse is deprecated and will be removed in a future version. Check `isinstance(dtype, pd.SparseDtype)` instead.\n",
      "  if is_sparse(pd_dtype):\n",
      "f:\\Programas\\anaconda3\\envs\\uspspotenv\\Lib\\site-packages\\sklearn\\utils\\validation.py:614: FutureWarning: is_sparse is deprecated and will be removed in a future version. Check `isinstance(dtype, pd.SparseDtype)` instead.\n",
      "  if is_sparse(pd_dtype) or not is_extension_array_dtype(pd_dtype):\n",
      "f:\\Programas\\anaconda3\\envs\\uspspotenv\\Lib\\site-packages\\sklearn\\utils\\validation.py:605: FutureWarning: is_sparse is deprecated and will be removed in a future version. Check `isinstance(dtype, pd.SparseDtype)` instead.\n",
      "  if is_sparse(pd_dtype):\n",
      "f:\\Programas\\anaconda3\\envs\\uspspotenv\\Lib\\site-packages\\sklearn\\utils\\validation.py:614: FutureWarning: is_sparse is deprecated and will be removed in a future version. Check `isinstance(dtype, pd.SparseDtype)` instead.\n",
      "  if is_sparse(pd_dtype) or not is_extension_array_dtype(pd_dtype):\n",
      "f:\\Programas\\anaconda3\\envs\\uspspotenv\\Lib\\site-packages\\sklearn\\utils\\validation.py:605: FutureWarning: is_sparse is deprecated and will be removed in a future version. Check `isinstance(dtype, pd.SparseDtype)` instead.\n",
      "  if is_sparse(pd_dtype):\n",
      "f:\\Programas\\anaconda3\\envs\\uspspotenv\\Lib\\site-packages\\sklearn\\utils\\validation.py:614: FutureWarning: is_sparse is deprecated and will be removed in a future version. Check `isinstance(dtype, pd.SparseDtype)` instead.\n",
      "  if is_sparse(pd_dtype) or not is_extension_array_dtype(pd_dtype):\n",
      "f:\\Programas\\anaconda3\\envs\\uspspotenv\\Lib\\site-packages\\sklearn\\utils\\validation.py:605: FutureWarning: is_sparse is deprecated and will be removed in a future version. Check `isinstance(dtype, pd.SparseDtype)` instead.\n",
      "  if is_sparse(pd_dtype):\n",
      "f:\\Programas\\anaconda3\\envs\\uspspotenv\\Lib\\site-packages\\sklearn\\utils\\validation.py:614: FutureWarning: is_sparse is deprecated and will be removed in a future version. Check `isinstance(dtype, pd.SparseDtype)` instead.\n",
      "  if is_sparse(pd_dtype) or not is_extension_array_dtype(pd_dtype):\n"
     ]
    }
   ],
   "source": [
    "from sklearn.ensemble import RandomForestClassifier\n",
    "from sklearn.metrics import classification_report, accuracy_score\n",
    "\n",
    "# Crie o objeto do classificador Random Forest\n",
    "rf_model = RandomForestClassifier(n_estimators=100, random_state=42)\n",
    "\n",
    "# Treine o modelo\n",
    "rf_model.fit(X_train, y_train)\n",
    "\n",
    "# Faça previsões no conjunto de teste\n",
    "y_pred_rf = rf_model.predict(X_test)\n",
    "\n",
    "# Avalie o modelo\n",
    "print(accuracy_score(y_test, y_pred_rf))\n",
    "print(classification_report(y_test, y_pred_rf))\n"
   ]
  }
 ],
 "metadata": {
  "kernelspec": {
   "display_name": "spotenv",
   "language": "python",
   "name": "python3"
  },
  "language_info": {
   "codemirror_mode": {
    "name": "ipython",
    "version": 3
   },
   "file_extension": ".py",
   "mimetype": "text/x-python",
   "name": "python",
   "nbconvert_exporter": "python",
   "pygments_lexer": "ipython3",
   "version": "3.11.5"
  }
 },
 "nbformat": 4,
 "nbformat_minor": 2
}
